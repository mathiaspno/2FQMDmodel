{
 "cells": [
  {
   "cell_type": "markdown",
   "id": "beaf0ee3-7299-4ef6-a9a7-1f720c1d7b75",
   "metadata": {},
   "source": [
    "This follows the Pion and 2SC notes document and we use $\\mu$ and $\\mu_I$"
   ]
  },
  {
   "cell_type": "code",
   "execution_count": 1,
   "id": "39cf56ee-17be-4dce-a7e4-7496a6c059d7",
   "metadata": {
    "editable": true,
    "slideshow": {
     "slide_type": ""
    },
    "tags": []
   },
   "outputs": [],
   "source": [
    "import numpy as np\n",
    "import matplotlib.pyplot as plt\n",
    "import scipy.integrate as integrate\n",
    "from tqdm import tqdm\n",
    "import scipy.optimize as optimize"
   ]
  },
  {
   "cell_type": "code",
   "execution_count": 2,
   "id": "9b5e75f8-3a70-4b18-9078-3176d585c249",
   "metadata": {},
   "outputs": [
    {
     "name": "stdout",
     "output_type": "stream",
     "text": [
      "388.0644277049882\n",
      "104.47034342698578\n",
      "122.15549464477317\n"
     ]
    }
   ],
   "source": [
    "Λ_cutoff = 2000\n",
    "Nc = 3\n",
    "mσ = 599.99\n",
    "mq = 300\n",
    "mπ = 140\n",
    "fπ = 93\n",
    "g = mq/fπ\n",
    "\n",
    "def C(p):\n",
    "    return np.real(2-2*np.emath.sqrt(4*mq**2/(p**2)-1)*np.arctan(1/(np.emath.sqrt(4*mq**2/(p**2)-1))))\n",
    "\n",
    "def dC(p):\n",
    "    return np.real(4*mq**2/(p**4*np.emath.sqrt(4*mq**2/(p**2)-1))*np.arctan(1/(np.emath.sqrt(4*mq**2/(p**2)-1)))-1/(p**2))\n",
    "\n",
    "Cσ = C(mσ)\n",
    "Cπ = C(mπ)\n",
    "dCπ = dC(mπ)\n",
    "\n",
    "m0_tree = np.sqrt((mσ**2 - 3*mπ**2)/2)\n",
    "λ0_tree = 3*(mσ**2 - 3*mπ**2)/fπ**2\n",
    "h0_tree = (mπ**2*fπ)**(1/3)\n",
    "\n",
    "\n",
    "m0 = np.sqrt((mσ**2-3*mπ**2)/2 + 2*Nc*mq**2/((4*np.pi)**2*fπ**2)*(4*mq**2 + (mσ**2-4*mq**2)*Cσ - mσ**2*Cπ - (mσ**2-3*mπ**2)*mπ**2*dCπ))\n",
    "\n",
    "λ0 = 3*(mσ**2-mπ**2)/fπ**2 + 12*Nc*mq**2/((4*np.pi)**2*fπ**4)*((mσ**2-4*mq**2)*(Cσ - Cπ - mπ**2*dCπ) + mπ**4*dCπ)\n",
    "\n",
    "h0 = -mπ**2*fπ**2*(1-4*Nc*mq**2/((4*np.pi)**2*fπ**2)*mπ**2*dCπ)/fπ\n",
    "\n",
    "g0 = mq/fπ\n",
    "gΔ = 1.5*g0\n",
    "mΔ = 900\n",
    "λ3 = λ0\n",
    "λΔ = λ0/4\n",
    "print(m0_tree)\n",
    "print(λ0_tree)\n",
    "print(h0_tree)"
   ]
  },
  {
   "cell_type": "code",
   "execution_count": 3,
   "id": "e75958fd-3d74-4fc4-903e-75fc712beca0",
   "metadata": {},
   "outputs": [],
   "source": [
    "def E(p, m):\n",
    "    return np.sqrt(p**2 + m**2)\n",
    "\n",
    "def EΔ(p, m, Δ, μ_bar):  \n",
    "    return np.sqrt((E(p, m) + μ_bar)**2 + Δ**2)\n",
    "\n",
    "def step(x):\n",
    "    if x >= 0:\n",
    "        return 1\n",
    "    else:\n",
    "        return 0"
   ]
  },
  {
   "cell_type": "code",
   "execution_count": 4,
   "id": "449b8b67-cf27-45d4-b1ff-5f4f81ea1ebd",
   "metadata": {},
   "outputs": [],
   "source": [
    "def Ωϕρ(ϕ, ρ, μI):\n",
    "    line1 = 3/4*mπ**2*fπ**2*(1 - 4*mq**2*Nc/((4*np.pi)**2*fπ**2)*mπ**2*dCπ)*(ϕ**2 + ρ**2)/(mq**2)\n",
    "    line2 = -1/4*mσ**2*fπ**2*(1 + 4*mq**2*Nc/((4*np.pi)**2*fπ**2)*((1-4*mq**2/(mσ**2))*Cσ + 4*mq**2/(mσ**2) - Cπ - mπ**2*dCπ))*(ϕ**2 + ρ**2)/(mq**2)\n",
    "    line3 = -μI**2/2*fπ**2*(1 - 4*mq**2*Nc/((4*np.pi)**2*fπ**2)*(np.log((ϕ**2 + ρ**2)/(mq**2) + Cπ + mπ**2*dCπ)))*ρ**2/(mq**2)\n",
    "    line4 = 1/8*mσ**2*fπ**2*(1 - 4*mq**2*Nc/((4*np.pi)**2*fπ**2)*(4*mq**2/(mσ**2)*(np.log((ϕ**2 + ρ**2)/(mq**2)) - 3/2) - (1 - 4*mq**2/(mσ**2))*Cσ + Cπ + mπ**2*dCπ))*(ϕ**2 + ρ**2)**2/(mq**4)\n",
    "    line5 = -1/8*mπ**2*fπ**2*(1 - 4*mq**2*Nc/((4*np.pi)**2*fπ**2)*mπ**2*dCπ)*(ϕ**2 + ρ**2)**2/(mq**4) - mπ**2*fπ**2*(1 - 4*mq**2*Nc/((4*np.pi)**2*fπ**2)*mπ**2*dCπ)*ϕ/mq\n",
    "    return line1 + line2 + line3 + line4 + line5\n",
    "\n",
    "def Ωϕρ_finite(ϕ, ρ, μI):\n",
    "    if ρ == 0:\n",
    "        return 0\n",
    "    else:\n",
    "        def integrand(p):\n",
    "            return p**2*(np.sqrt((E(p, ϕ) + μI/2)**2 + ρ**2) + np.sqrt((E(p, ϕ) - μI/2)**2 + ρ**2)\n",
    "                        -2*np.sqrt(p**2 + ϕ**2 + ρ**2)\n",
    "                        -1/4*μI**2*ρ**2/(p**2 + ϕ**2 + ρ**2)**(3/2))\n",
    "        integral, err = integrate.quad(integrand, 0, Λ_cutoff)\n",
    "        return -2*Nc*integral*4*np.pi/((2*np.pi)**3)\n",
    "\n",
    "def Ωϕρμ(ϕ, ρ, μ, μI):\n",
    "    #Define relevant chemcial potentials\n",
    "    μu = μ + 1/2*μI\n",
    "    μd = μ - 1/2*μI\n",
    "    #This can be done analytically!\n",
    "    if ρ == 0:\n",
    "        def integrand1(p):\n",
    "            return p**2*(μu- E(p, ϕ))*step(μu - E(p, ϕ))\n",
    "        def integrand2(p):\n",
    "            return p**2*(μd- E(p, ϕ))*step(μd - E(p, ϕ))\n",
    "        def integrand3(p):\n",
    "            return p**2*(-μu- E(p, ϕ))*step(-μu - E(p, ϕ))\n",
    "        def integrand4(p):\n",
    "            return p**2*(-μd- E(p, ϕ))*step(-μd - E(p, ϕ))\n",
    "        \n",
    "        integral1, err1 = integrate.quad(integrand1, 0, Λ_cutoff)\n",
    "        integral2, err2 = integrate.quad(integrand2, 0, Λ_cutoff)\n",
    "        integral3, err3 = integrate.quad(integrand3, 0, Λ_cutoff)\n",
    "        integral4, err4 = integrate.quad(integrand4, 0, Λ_cutoff)\n",
    "        \n",
    "        return -2*Nc*(integral1 + integral2 + integral3 + integral4)*4*np.pi/((2*np.pi)**3)\n",
    "    \n",
    "    else:\n",
    "        def integrand1(p):\n",
    "            return p**2*((μ - np.sqrt((E(p, ϕ) + μI/2)**2 + ρ**2))*step(μ - np.sqrt((E(p, ϕ) + μI/2)**2 + ρ**2)))\n",
    "        \n",
    "        def integrand2(p):\n",
    "            return p**2*((μ - np.sqrt((E(p, ϕ) - μI/2)**2 + ρ**2))*step(μ - np.sqrt((E(p, ϕ) - μI/2)**2 + ρ**2)))\n",
    "        \n",
    "        def integrand3(p):\n",
    "            return p**2*((-μ - np.sqrt((E(p, ϕ) + μI/2)**2 + ρ**2))*step(-μ - np.sqrt((E(p, ϕ) + μI/2)**2 + ρ**2)))\n",
    "        \n",
    "        def integrand4(p):\n",
    "            return p**2*((-μ - np.sqrt((E(p, ϕ) - μI/2)**2 + ρ**2))*step(-μ - np.sqrt((E(p, ϕ) - μI/2)**2 + ρ**2)))\n",
    "        \n",
    "        integral1, err1 = integrate.quad(integrand1, 0, Λ_cutoff)\n",
    "        \n",
    "        integral2, err2 = integrate.quad(integrand2, 0, Λ_cutoff)\n",
    "\n",
    "        integral3, err3 = integrate.quad(integrand3, 0, Λ_cutoff)\n",
    "        \n",
    "        integral4, err4 = integrate.quad(integrand4, 0, Λ_cutoff)\n",
    "        \n",
    "        return -2*Nc*(integral1 + integral2 + integral3 + integral4)*4*np.pi/((2*np.pi)**3)\n",
    "\n",
    "def Ωϕρ_tot_zero_ρ(ϕ, μ, μe):\n",
    "    return (Ωϕρ(ϕ, 0, μe) + Ωϕρ_finite(ϕ, 0, μe) + Ωϕρμ(ϕ, 0, μ, μe))/fπ**4\n",
    "\n",
    "def Ωϕρ_tot(ϕρ, μ, μe):\n",
    "    ϕ, ρ = ϕρ\n",
    "    return (Ωϕρ(ϕ, ρ, μe) + Ωϕρ_finite(ϕ, ρ, μe) + Ωϕρμ(ϕ, ρ, μ, μe))/fπ**4"
   ]
  },
  {
   "cell_type": "code",
   "execution_count": 5,
   "id": "adcb5918-8ed4-4300-ac1a-02b682ff6f92",
   "metadata": {},
   "outputs": [],
   "source": [
    "def Ωϕ(ϕ):\n",
    "    if ϕ == 0:\n",
    "        return 0 \n",
    "    else: \n",
    "        return  h0*fπ*ϕ/mq - 1/2*m0**2*fπ**2*ϕ**2/(mq**2) + 1/24*λ0*fπ**4*ϕ**4/(mq**4) + 2*mq**4/((4*np.pi)**2)*(np.log(mq**2/(ϕ**2)) -(Cπ+mπ**2*dCπ))*ϕ**4/(mq**4) + 2*Nc*mq**4/((4*np.pi)**2)*(3/2)*ϕ**4/(mq**4)\n",
    "\n",
    "def ΩϕΔ(ϕ, Δ, μ):\n",
    "    if ϕ == 0 and Δ == 0:\n",
    "        return 0\n",
    "    if ϕ == 0:\n",
    "        return  (mΔ**2 - 4*μ**2)/(gΔ**2)*Δ**2 - 16/((4*np.pi)**2)*(np.log(mq**2/(Δ**2))-(Cπ+mπ**2*dCπ))*μ**2*Δ**2 + λΔ/(6*gΔ**4)*Δ**4 + 6/((4*np.pi)**2)*Δ**4 + 4/((4*np.pi)**2)*(np.log(mq**2/(Δ**2))-(Cπ + mπ**2*dCπ))*(Δ**4)\n",
    "    if Δ ==0:\n",
    "        return   4*mq**4/((4*np.pi)**2)*(np.log((mq**2)/(ϕ**2)) -(Cπ+mπ**2*dCπ))*ϕ**4/(mq**4)\n",
    "    else:\n",
    "        return 1/12*λ3*fπ**2/(gΔ**2*mq**2)*Δ**2*ϕ**2 + 12/((4*np.pi)**2)*ϕ**2*Δ**2 + (mΔ**2 - 4*μ**2)/(gΔ**2)*Δ**2 - 16/((4*np.pi)**2)*(np.log(mq**2/(Δ**2+ϕ**2))-(Cπ+mπ**2*dCπ))*μ**2*Δ**2 + λΔ/(6*gΔ**4)*Δ**4 + 6/((4*np.pi)**2)*Δ**4 + 4/((4*np.pi)**2)*(np.log(mq**2/(Δ**2+ϕ**2))-(Cπ + mπ**2*dCπ))*(Δ**4) +  8/((4*np.pi)**2)*(np.log(mq**2/(Δ**2+ϕ**2))-(Cπ + mπ**2*dCπ))*Δ**2*ϕ**2 + 4*mq**4/((4*np.pi)**2)*(np.log((mq**2)/(ϕ**2+Δ**2)) -(Cπ+mπ**2*dCπ))*ϕ**4/(mq**4)\n",
    "    \n",
    "def Ω_num(ϕ, Δ, μ):\n",
    "    def integrand(p):\n",
    "        if Δ == 0:\n",
    "            return 0\n",
    "        else:\n",
    "            return p**2*(EΔ(p, ϕ, Δ, μ) + EΔ(p, ϕ, Δ, -μ) - 2*np.sqrt(p**2 + ϕ**2 + Δ**2) - Δ**2*μ**2/((p**2 + ϕ**2 + Δ**2)**(3/2))\n",
    "                        )\n",
    "\n",
    "    integral, err = integrate.quad(integrand, 0, Λ_cutoff, limit = 50)\n",
    "\n",
    "    return 2*integral/(np.pi**2)\n",
    "    \n",
    "def Ωμ(ϕ, Δ, μ, μI):\n",
    "\n",
    "    μ_u = μ + 1/2*μI\n",
    "    μ_d = μ - 1/2*μI\n",
    "    δμ = μI/2\n",
    "\n",
    "    if Δ != 0:\n",
    "\n",
    "        def integrand_ub(p):\n",
    "            if μ_u < 0:\n",
    "                return p**2*(-μ_u - E(p, ϕ))*step(-μ_u - E(p, ϕ))\n",
    "            else:\n",
    "                return p**2*(μ_u - E(p, ϕ))*step(μ_u - E(p, ϕ))\n",
    "\n",
    "        def integrand_db(p):\n",
    "            if μ_d < 0:\n",
    "                return p**2*(-μ_d - E(p, ϕ))*step(-μ_d - E(p, ϕ))\n",
    "            else:\n",
    "                return p**2*(μ_d - E(p, ϕ))*step(μ_d - E(p, ϕ))\n",
    "\n",
    "        def integrand_bar_p(p):\n",
    "            if δμ < 0:\n",
    "                return p**2*(-δμ - EΔ(p, ϕ, Δ, μ))*step(-δμ - EΔ(p, ϕ, Δ, μ))\n",
    "            else:\n",
    "                return p**2*(δμ - EΔ(p, ϕ, Δ, μ))*step(δμ - EΔ(p, ϕ, Δ, μ))\n",
    "\n",
    "        def integrand_bar_m(p):\n",
    "            if δμ <0:\n",
    "                return p**2*(-δμ - EΔ(p, ϕ, Δ, -μ))*step(-δμ - EΔ(p, ϕ, Δ, -μ))\n",
    "            else:\n",
    "                return p**2*(δμ - EΔ(p, ϕ, Δ, -μ))*step(δμ - EΔ(p, ϕ, Δ, -μ))\n",
    "\n",
    "        integral_ub, err_ub = integrate.quad(integrand_ub, 0, Λ_cutoff)\n",
    "        integral_db, err_db = integrate.quad(integrand_db, 0, Λ_cutoff)\n",
    "        integral_bar_p, err_bar_p = integrate.quad(integrand_bar_p, 0, Λ_cutoff)\n",
    "        integral_bar_m, err_bar_m = integrate.quad(integrand_bar_m, 0, Λ_cutoff)\n",
    "\n",
    "        return -2*(integral_ub + integral_db + 2*integral_bar_p + 2*integral_bar_m)*4*np.pi/(2*np.pi)**3\n",
    "\n",
    "    else:\n",
    "        def integrand_u(p):\n",
    "            if μ_u < 0:\n",
    "                return p**2*(-μ_u - E(p, ϕ))*step(-μ_u - E(p, ϕ))\n",
    "            else:\n",
    "                return p**2*(μ_u - E(p, ϕ))*step(μ_u - E(p, ϕ))\n",
    "\n",
    "        def integrand_d(p):\n",
    "            if μ_d < 0:\n",
    "                return p**2*(-μ_d - E(p, ϕ))*step(-μ_d - E(p, ϕ))\n",
    "            else:\n",
    "                return p**2*(μ_d - E(p, ϕ))*step(μ_d - E(p, ϕ))\n",
    "\n",
    "        integral_u, err_u = integrate.quad(integrand_u, 0, np.real(np.emath.sqrt(μ_u**2 - ϕ**2)))\n",
    "        integral_d, err_d = integrate.quad(integrand_d, 0, np.real(np.emath.sqrt(μ_d**2 - ϕ**2)))\n",
    "\n",
    "        return -2*Nc*(integral_u + integral_d)*4*np.pi/(2*np.pi)**3\n",
    "\n",
    "def Ω1(ϕ, Δ, μ, μI):\n",
    "    return (Ωϕ(ϕ) + ΩϕΔ(ϕ, Δ, μ)  - Ω_num(ϕ, Δ, μ))/fπ**4\n",
    "\n",
    "def ΩϕΔ_tot(ϕΔ, μ, μI):\n",
    "    ϕ, Δ = ϕΔ\n",
    "    return (Ωϕ(ϕ) + ΩϕΔ(ϕ, Δ, μ)  - Ω_num(ϕ, Δ, μ) + Ωμ(ϕ, Δ, μ, μI))/fπ**4\n",
    "\n",
    "def Ωϕ_tot(ϕ, μ, μI):\n",
    "    Δ = 0\n",
    "    return (Ωϕ(ϕ) + ΩϕΔ(ϕ, Δ, μ)  - Ω_num(ϕ, Δ, μ) + Ωμ(ϕ, Δ, μ, μI))/fπ**4"
   ]
  },
  {
   "cell_type": "code",
   "execution_count": 6,
   "id": "be61aa51-9c29-4676-a579-6b8b33dde3c9",
   "metadata": {},
   "outputs": [
    {
     "data": {
      "image/png": "[encoded data removed]",
      "text/plain": [
       "<Figure size 640x480 with 1 Axes>"
      ]
     },
     "metadata": {},
     "output_type": "display_data"
    }
   ],
   "source": [
    "ϕ_lin = np.linspace(0, 300, 100)\n",
    "Ωϕ_tot_list = [Ωϕ_tot(ϕi, 10, 10) for ϕi in ϕ_lin]\n",
    "plt.plot(ϕ_lin, Ωϕ_tot_list)\n",
    "plt.show()"
   ]
  },
  {
   "cell_type": "code",
   "execution_count": 7,
   "id": "e01c1534-87fa-437d-a7d8-5eaa2ffcd603",
   "metadata": {},
   "outputs": [],
   "source": [
    "#This is not really global minimization. It is instead local minimization base on three different initial conditions. \n",
    "#These initial conditions are chosen based on knowledge of how we think the the minima might be at different μ and μI.\n",
    "#If one were to do this analysis without any previous knowledge of the system this could lead to finding local minima and wrongly assuming them to be global.\n",
    "\n",
    "def minimize_ϕρ(μ, μI):\n",
    "    initial_conditions = [[300, 0], [150, 150], [0, 300]]\n",
    "    results_ϕρ = [optimize.minimize(Ωϕρ_tot, init, method = 'Powell',  args=(μ, μI), bounds=((0, 350),(0, 350)), tol=1e-3) for init in initial_conditions]\n",
    "    results_ϕρ_min = [i.fun for i in results_ϕρ]\n",
    "    results_ϕρ_min_idx = np.where(results_ϕρ_min == np.min(results_ϕρ_min))[0][0]\n",
    "    result_ϕρ = results_ϕρ[results_ϕρ_min_idx]\n",
    "    if result_ϕρ.success != True:\n",
    "        print(\"The minimization algorithm did not converge at μ = \", μ)\n",
    "    return result_ϕρ\n",
    "\n",
    "def minimize_ϕΔ(μ, μI):\n",
    "    initial_conditions = [[300, 0], [150, 150], [0, 300]]\n",
    "    results_ϕΔ = [optimize.minimize(ΩϕΔ_tot, init, method = 'Powell',  args=(μ, μI), bounds=((0, 350),(0, 350)), tol=1e-3) for init in initial_conditions]\n",
    "    #print(results_ϕΔ)\n",
    "    results_ϕΔ_min = [i.fun for i in results_ϕΔ]\n",
    "    results_ϕΔ_min_idx = np.where(results_ϕΔ_min == np.min(results_ϕΔ_min))[0][0]\n",
    "    result_ϕΔ = results_ϕΔ[results_ϕΔ_min_idx]\n",
    "    if result_ϕΔ.success != True:\n",
    "        print(\"The minimization algorithm did not converge at μ = \", μ)\n",
    "    return result_ϕΔ\n",
    "\n",
    "def minimize_ϕ_Δ_eq_0(μ, μI):\n",
    "    initial_conditions = [300, 0]\n",
    "    results_ϕ = [optimize.minimize(Ωϕ_tot, init, method = 'Powell',  args=(μ, μI), bounds=((0, 350),), tol=1e-3) for init in initial_conditions]\n",
    "    #print(results_ϕ)\n",
    "    results_ϕ_min = [i.fun for i in results_ϕ]\n",
    "    results_ϕ_min_idx = np.where(results_ϕ_min == np.min(results_ϕ_min))[0][0]\n",
    "    result_ϕ = results_ϕ[results_ϕ_min_idx]\n",
    "    if result_ϕ.success != True:\n",
    "        print(\"The minimization algorithm did not converge at μ = \", μ)\n",
    "    return result_ϕ\n",
    "\n",
    "def minimize_ϕΔ_tot(μ, μI):\n",
    "    min_ϕΔ = minimize_ϕΔ(μ, μI)\n",
    "    min_ϕ = minimize_ϕ_Δ_eq_0(μ, μI)\n",
    "    if min_ϕ.fun <= min_ϕΔ.fun:\n",
    "        return [min_ϕ.x[0],0]\n",
    "    else:\n",
    "        return min_ϕΔ.x\n",
    "    \n",
    "def total_minimization_function(μ, μI):\n",
    "\n",
    "    min_ϕρ_data = minimize_ϕρ(μ, μI)\n",
    "    min_ϕΔ = minimize_ϕΔ_tot(μ, μI)\n",
    "\n",
    "    Ω_min_val_ρ = min_ϕρ_data.fun\n",
    "    Ω_min_val_Δ = ΩϕΔ_tot(min_ϕΔ, μ, μI)\n",
    "    min_ϕρ = min_ϕρ_data.x\n",
    "    \n",
    "    if min_ϕρ[1] > 2 and min_ϕΔ[1] < 2:\n",
    "        return 'ρ'\n",
    "    \n",
    "    elif min_ϕρ[1] < 2 and min_ϕΔ[1] > 2:\n",
    "        return 'Δ'\n",
    "    \n",
    "    elif min_ϕρ[1] > 2 and min_ϕΔ[1] > 2:\n",
    "        if Ω_min_val_ρ < Ω_min_val_Δ:\n",
    "            return 'ρ'\n",
    "        else:\n",
    "            return 'Δ'\n",
    "    else:\n",
    "        if min_ϕρ[0] < 298:\n",
    "            return 'NQM'\n",
    "        else:\n",
    "            return 'Vacuum'"
   ]
  },
  {
   "cell_type": "code",
   "execution_count": 8,
   "id": "636cea78-f30c-4177-a6c3-1996317f1f6d",
   "metadata": {},
   "outputs": [
    {
     "name": "stdout",
     "output_type": "stream",
     "text": [
      "[40.80770847 92.42535516]\n"
     ]
    }
   ],
   "source": [
    "print(minimize_ϕΔ_tot(350, 10))"
   ]
  },
  {
   "cell_type": "code",
   "execution_count": 9,
   "id": "ac57feb1-e23a-43a8-bf0b-9839e17e4ae0",
   "metadata": {},
   "outputs": [
    {
     "name": "stderr",
     "output_type": "stream",
     "text": [
      "  0%|          | 0/30 [00:00<?, ?it/s]C:\\Users\\mathi\\AppData\\Local\\Temp\\ipykernel_9048\\432776185.py:25: IntegrationWarning: The occurrence of roundoff error is detected, which prevents \n",
      "  the requested tolerance from being achieved.  The error may be \n",
      "  underestimated.\n",
      "  integral, err = integrate.quad(integrand, 0, Λ_cutoff, limit = 50)\n",
      "  3%|▎         | 1/30 [00:02<01:00,  2.09s/it]C:\\Users\\mathi\\AppData\\Local\\Temp\\ipykernel_9048\\432776185.py:25: IntegrationWarning: The maximum number of subdivisions (50) has been achieved.\n",
      "  If increasing the limit yields no improvement it is advised to analyze \n",
      "  the integrand in order to determine the difficulties.  If the position of a \n",
      "  local difficulty can be determined (singularity, discontinuity) one will \n",
      "  probably gain from splitting up the interval and calling the integrator \n",
      "  on the subranges.  Perhaps a special-purpose integrator should be used.\n",
      "  integral, err = integrate.quad(integrand, 0, Λ_cutoff, limit = 50)\n",
      "100%|██████████| 30/30 [00:34<00:00,  1.14s/it]\n"
     ]
    }
   ],
   "source": [
    "μ_lin = np.linspace(300, 350, 30)\n",
    "minima_list = [minimize_ϕΔ_tot(μi, 100) for μi in tqdm(μ_lin)]\n",
    "ϕ0_min = [i[0] for i in minima_list]\n",
    "Δ0_min = [i[1] for i in minima_list]"
   ]
  },
  {
   "cell_type": "code",
   "execution_count": 10,
   "id": "f3525f94-e51f-44a9-b9e7-073307d1c693",
   "metadata": {},
   "outputs": [
    {
     "data": {
      "image/png": "[encoded data removed]",
      "text/plain": [
       "<Figure size 640x480 with 1 Axes>"
      ]
     },
     "metadata": {},
     "output_type": "display_data"
    }
   ],
   "source": [
    "plt.xlabel(\"Quark chemical potential μ\")\n",
    "plt.ylabel(\"ϕ0 (blue), Δ0 (green)\")\n",
    "plt.plot(μ_lin, ϕ0_min, c= \"blue\")\n",
    "plt.plot(μ_lin, Δ0_min, c= \"green\")\n",
    "plt.scatter(μ_lin, Δ0_min, c= \"green\")\n",
    "plt.scatter(μ_lin, ϕ0_min, c= \"blue\")\n",
    "plt.show()"
   ]
  },
  {
   "cell_type": "code",
   "execution_count": 11,
   "id": "f6d2ba46-4ccd-447a-a1a8-e345ae73f98f",
   "metadata": {
    "editable": true,
    "slideshow": {
     "slide_type": ""
    },
    "tags": []
   },
   "outputs": [],
   "source": [
    "def vertical_transition_ρ(μ_range, μI_range):\n",
    "    μI_lin = np.linspace(μI_range[0], μI_range[1], 25)\n",
    "    \n",
    "    def transition(μI_current):\n",
    "        n = 0\n",
    "        μ_min, μ_max = μ_range\n",
    "        phase_min = total_minimization_function(μ_min, μI_current)\n",
    "        phase_max = total_minimization_function(μ_max, μI_current)\n",
    "        print(phase_min, phase_max)\n",
    "        if phase_min == phase_max:\n",
    "            print(\"Warning: You are in the same phase for lower and upper bound for vertical transition\")\n",
    "            return 0\n",
    "        else:\n",
    "            while np.abs(μ_max - μ_min) >= 1/2:\n",
    "                μ_test = (μ_min + μ_max)/2\n",
    "                phase = total_minimization_function(μ_test, μI_current)\n",
    "                print(μ_test, phase)\n",
    "                if phase == \"ρ\":\n",
    "                    μ_min = μ_test\n",
    "                else:\n",
    "                    μ_max = μ_test\n",
    "                n += 1\n",
    "            return μ_test\n",
    "    transition_list = [[transition(μIi), μIi] for μIi in tqdm(μI_lin)]\n",
    "    return transition_list\n",
    "\n",
    "def horizontal_transition_ρ(μ_range, μI_range):\n",
    "    μ_lin = np.linspace(μ_range[0], μ_range[1], 25)\n",
    "    \n",
    "    def transition(μ_current):\n",
    "        n = 0\n",
    "        μI_min, μI_max = μI_range\n",
    "        phase_min = total_minimization_function(μ_current, μI_min)\n",
    "        phase_max = total_minimization_function(μ_current, μI_max)\n",
    "        print(phase_min, phase_max)\n",
    "        if phase_min == phase_max:\n",
    "            print(\"Warning: You are in the same phase for lower and upper bound for horizontal transition\")\n",
    "            return 0\n",
    "        else:\n",
    "            while np.abs(μI_max - μI_min) >= 1/2:\n",
    "                μI_test = (μI_min + μI_max)/2\n",
    "                phase = total_minimization_function(μ_current, μI_test)\n",
    "                print(phase, μI_test)\n",
    "                if phase == \"ρ\":\n",
    "                    μI_max = μI_test\n",
    "                else:\n",
    "                    μI_min = μI_test\n",
    "                n += 1\n",
    "            return μI_test\n",
    "    transition_list = [[μi, transition(μi)] for μi in tqdm(μ_lin)]\n",
    "    return transition_list\n",
    "\n",
    "def vertical_transition_Δ(μ_range, μI_range):\n",
    "    μI_lin = np.linspace(μI_range[0], μI_range[1], 25)\n",
    "    \n",
    "    def transition(μI_current):\n",
    "        n = 0\n",
    "        μ_min, μ_max = μ_range\n",
    "        phase_min = total_minimization_function(μ_min, μI_current)\n",
    "        phase_max = total_minimization_function(μ_max, μI_current)\n",
    "        print(phase_min, phase_max)\n",
    "        if phase_min == phase_max:\n",
    "            print(\"Warning: You are in the same phase for lower and upper bound for vertical transition\")\n",
    "            return 0\n",
    "        else:\n",
    "            while np.abs(μ_max - μ_min) >= 1/2:\n",
    "                μ_test = (μ_min + μ_max)/2\n",
    "                phase = total_minimization_function(μ_test, μI_current)\n",
    "                print(μ_test, phase)\n",
    "                if phase == \"Δ\":\n",
    "                    μ_max = μ_test\n",
    "                else:\n",
    "                    μ_min = μ_test\n",
    "                n += 1\n",
    "            return μ_test\n",
    "    transition_list = [[transition(μIi), μIi] for μIi in tqdm(μI_lin)]\n",
    "    return transition_list\n",
    "\n",
    "def vertical_transition_ϕ(μ_range, μI_range):\n",
    "    μI_lin = np.linspace(μI_range[0], μI_range[1], 25)\n",
    "    \n",
    "    def transition(μI_current):\n",
    "        n = 0\n",
    "        μ_min, μ_max = μ_range\n",
    "        phase_min = total_minimization_function(μ_min, μI_current)\n",
    "        phase_max = total_minimization_function(μ_max, μI_current)\n",
    "        print(phase_min, phase_max)\n",
    "        if phase_min == phase_max:\n",
    "            print(\"Warning: You are in the same phase for lower and upper bound for vertical transition\")\n",
    "            return 0\n",
    "        else:\n",
    "            while np.abs(μ_max - μ_min) >= 1/2:\n",
    "                μ_test = (μ_min + μ_max)/2\n",
    "                phase = total_minimization_function(μ_test, μI_current)\n",
    "                print(μ_test, phase)\n",
    "                if phase == \"Vacuum\":\n",
    "                    μ_min = μ_test\n",
    "                else:\n",
    "                    μ_max = μ_test\n",
    "                n += 1\n",
    "            return μ_test\n",
    "    transition_list = [[transition(μIi), μIi] for μIi in tqdm(μI_lin)]\n",
    "    return transition_list\n",
    "\n",
    "def horizontal_transition_ϕ(μ_range, μI_range):\n",
    "    μ_lin = np.linspace(μ_range[0], μ_range[1], 15)\n",
    "    \n",
    "    def transition(μ_current):\n",
    "        n = 0\n",
    "        μI_min, μI_max = μI_range\n",
    "        phase_min = total_minimization_function(μ_current, μI_min)\n",
    "        phase_max = total_minimization_function(μ_current, μI_max)\n",
    "        print(phase_min, phase_max)\n",
    "        if phase_min == phase_max:\n",
    "            print(\"Warning: You are in the same phase for lower and upper bound for horizontal transition\")\n",
    "            return 0\n",
    "        else:\n",
    "            while np.abs(μI_max - μI_min) >= 1/2:\n",
    "                μI_test = (μI_min + μI_max)/2\n",
    "                phase = total_minimization_function(μ_current, μI_test)\n",
    "                print(phase, μI_test)\n",
    "                if phase == \"Vacuum\":\n",
    "                    μI_min = μI_test\n",
    "                else:\n",
    "                    μI_max = μI_test\n",
    "                n += 1\n",
    "            return μI_test\n",
    "    transition_list = [[μi, transition(μi)] for μi in tqdm(μ_lin)]\n",
    "    return transition_list"
   ]
  },
  {
   "cell_type": "code",
   "execution_count": 12,
   "id": "f10cc933-a7ca-486f-90ec-1069a4eca215",
   "metadata": {},
   "outputs": [
    {
     "name": "stderr",
     "output_type": "stream",
     "text": [
      "  0%|          | 0/25 [00:00<?, ?it/s]C:\\Users\\mathi\\AppData\\Local\\Temp\\ipykernel_9048\\432776185.py:25: IntegrationWarning: The maximum number of subdivisions (50) has been achieved.\n",
      "  If increasing the limit yields no improvement it is advised to analyze \n",
      "  the integrand in order to determine the difficulties.  If the position of a \n",
      "  local difficulty can be determined (singularity, discontinuity) one will \n",
      "  probably gain from splitting up the interval and calling the integrator \n",
      "  on the subranges.  Perhaps a special-purpose integrator should be used.\n",
      "  integral, err = integrate.quad(integrand, 0, Λ_cutoff, limit = 50)\n",
      "C:\\Users\\mathi\\AppData\\Local\\Temp\\ipykernel_9048\\432776185.py:25: IntegrationWarning: The occurrence of roundoff error is detected, which prevents \n",
      "  the requested tolerance from being achieved.  The error may be \n",
      "  underestimated.\n",
      "  integral, err = integrate.quad(integrand, 0, Λ_cutoff, limit = 50)\n",
      "C:\\Users\\mathi\\AppData\\Local\\Temp\\ipykernel_9048\\432776185.py:25: IntegrationWarning: The integral is probably divergent, or slowly convergent.\n",
      "  integral, err = integrate.quad(integrand, 0, Λ_cutoff, limit = 50)\n",
      "C:\\Users\\mathi\\AppData\\Local\\Temp\\ipykernel_9048\\3136175876.py:17: IntegrationWarning: The maximum number of subdivisions (50) has been achieved.\n",
      "  If increasing the limit yields no improvement it is advised to analyze \n",
      "  the integrand in order to determine the difficulties.  If the position of a \n",
      "  local difficulty can be determined (singularity, discontinuity) one will \n",
      "  probably gain from splitting up the interval and calling the integrator \n",
      "  on the subranges.  Perhaps a special-purpose integrator should be used.\n",
      "  integral, err = integrate.quad(integrand, 0, Λ_cutoff)\n",
      "C:\\Users\\mathi\\AppData\\Local\\Temp\\ipykernel_9048\\3136175876.py:17: IntegrationWarning: The integral is probably divergent, or slowly convergent.\n",
      "  integral, err = integrate.quad(integrand, 0, Λ_cutoff)\n",
      "C:\\Users\\mathi\\AppData\\Local\\Temp\\ipykernel_9048\\3136175876.py:17: IntegrationWarning: The occurrence of roundoff error is detected, which prevents \n",
      "  the requested tolerance from being achieved.  The error may be \n",
      "  underestimated.\n",
      "  integral, err = integrate.quad(integrand, 0, Λ_cutoff)\n"
     ]
    },
    {
     "name": "stdout",
     "output_type": "stream",
     "text": [
      "ρ NQM\n",
      "295.0 NQM\n",
      "267.5 NQM\n",
      "253.75 NQM\n",
      "246.875 ρ\n",
      "250.3125 ρ\n",
      "252.03125 NQM\n",
      "251.171875 NQM\n"
     ]
    },
    {
     "name": "stderr",
     "output_type": "stream",
     "text": [
      "  4%|▍         | 1/25 [00:37<14:58, 37.43s/it]"
     ]
    },
    {
     "name": "stdout",
     "output_type": "stream",
     "text": [
      "250.7421875 NQM\n",
      "ρ NQM\n",
      "295.0 NQM\n",
      "267.5 NQM\n",
      "253.75 ρ\n",
      "260.625 NQM\n",
      "257.1875 NQM\n",
      "255.46875 NQM\n",
      "254.609375 ρ\n"
     ]
    },
    {
     "name": "stderr",
     "output_type": "stream",
     "text": [
      "  8%|▊         | 2/25 [01:16<14:44, 38.46s/it]"
     ]
    },
    {
     "name": "stdout",
     "output_type": "stream",
     "text": [
      "255.0390625 ρ\n",
      "ρ NQM\n",
      "295.0 NQM\n",
      "267.5 NQM\n",
      "253.75 ρ\n",
      "260.625 NQM\n",
      "257.1875 ρ\n",
      "258.90625 NQM\n",
      "258.046875 ρ\n"
     ]
    },
    {
     "name": "stderr",
     "output_type": "stream",
     "text": [
      " 12%|█▏        | 3/25 [01:55<14:15, 38.87s/it]"
     ]
    },
    {
     "name": "stdout",
     "output_type": "stream",
     "text": [
      "258.4765625 NQM\n",
      "ρ NQM\n",
      "295.0 NQM\n",
      "267.5 NQM\n",
      "253.75 ρ\n",
      "260.625 NQM\n",
      "257.1875 ρ\n",
      "258.90625 ρ\n",
      "259.765625 ρ\n"
     ]
    },
    {
     "name": "stderr",
     "output_type": "stream",
     "text": [
      " 16%|█▌        | 4/25 [02:34<13:34, 38.80s/it]"
     ]
    },
    {
     "name": "stdout",
     "output_type": "stream",
     "text": [
      "260.1953125 ρ\n",
      "ρ NQM\n",
      "295.0 NQM\n",
      "267.5 NQM\n",
      "253.75 ρ\n",
      "260.625 ρ\n",
      "264.0625 NQM\n",
      "262.34375 NQM\n",
      "261.484375 ρ\n"
     ]
    },
    {
     "name": "stderr",
     "output_type": "stream",
     "text": [
      " 20%|██        | 5/25 [03:15<13:07, 39.40s/it]"
     ]
    },
    {
     "name": "stdout",
     "output_type": "stream",
     "text": [
      "261.9140625 ρ\n",
      "ρ NQM\n",
      "295.0 NQM\n",
      "267.5 NQM\n",
      "253.75 ρ\n",
      "260.625 ρ\n",
      "264.0625 NQM\n",
      "262.34375 ρ\n",
      "263.203125 ρ\n"
     ]
    },
    {
     "name": "stderr",
     "output_type": "stream",
     "text": [
      " 24%|██▍       | 6/25 [03:56<12:40, 40.03s/it]"
     ]
    },
    {
     "name": "stdout",
     "output_type": "stream",
     "text": [
      "263.6328125 NQM\n",
      "ρ NQM\n",
      "295.0 NQM\n",
      "267.5 NQM\n",
      "253.75 ρ\n",
      "260.625 ρ\n",
      "264.0625 ρ\n",
      "265.78125 NQM\n",
      "264.921875 NQM\n"
     ]
    },
    {
     "name": "stderr",
     "output_type": "stream",
     "text": [
      " 28%|██▊       | 7/25 [04:33<11:43, 39.10s/it]"
     ]
    },
    {
     "name": "stdout",
     "output_type": "stream",
     "text": [
      "264.4921875 NQM\n",
      "ρ NQM\n",
      "295.0 NQM\n",
      "267.5 NQM\n",
      "253.75 ρ\n",
      "260.625 ρ\n",
      "264.0625 ρ\n",
      "265.78125 NQM\n",
      "264.921875 NQM\n"
     ]
    },
    {
     "name": "stderr",
     "output_type": "stream",
     "text": [
      " 32%|███▏      | 8/25 [05:12<11:02, 38.96s/it]"
     ]
    },
    {
     "name": "stdout",
     "output_type": "stream",
     "text": [
      "264.4921875 ρ\n",
      "ρ NQM\n",
      "295.0 NQM\n",
      "267.5 NQM\n",
      "253.75 ρ\n",
      "260.625 ρ\n",
      "264.0625 ρ\n",
      "265.78125 ρ\n",
      "266.640625 NQM\n"
     ]
    },
    {
     "name": "stderr",
     "output_type": "stream",
     "text": [
      " 36%|███▌      | 9/25 [05:50<10:20, 38.77s/it]"
     ]
    },
    {
     "name": "stdout",
     "output_type": "stream",
     "text": [
      "266.2109375 NQM\n",
      "ρ NQM\n",
      "295.0 NQM\n",
      "267.5 NQM\n",
      "253.75 ρ\n",
      "260.625 ρ\n",
      "264.0625 ρ\n",
      "265.78125 ρ\n",
      "266.640625 NQM\n"
     ]
    },
    {
     "name": "stderr",
     "output_type": "stream",
     "text": [
      " 40%|████      | 10/25 [06:27<09:32, 38.16s/it]"
     ]
    },
    {
     "name": "stdout",
     "output_type": "stream",
     "text": [
      "266.2109375 ρ\n",
      "ρ NQM\n",
      "295.0 NQM\n",
      "267.5 NQM\n",
      "253.75 ρ\n",
      "260.625 ρ\n",
      "264.0625 ρ\n",
      "265.78125 ρ\n",
      "266.640625 ρ\n"
     ]
    },
    {
     "name": "stderr",
     "output_type": "stream",
     "text": [
      " 44%|████▍     | 11/25 [07:07<09:00, 38.61s/it]"
     ]
    },
    {
     "name": "stdout",
     "output_type": "stream",
     "text": [
      "267.0703125 ρ\n",
      "ρ NQM\n",
      "295.0 NQM\n",
      "267.5 ρ\n",
      "281.25 NQM\n",
      "274.375 NQM\n",
      "270.9375 NQM\n",
      "269.21875 NQM\n",
      "268.359375 NQM\n"
     ]
    },
    {
     "name": "stderr",
     "output_type": "stream",
     "text": [
      " 48%|████▊     | 12/25 [07:48<08:31, 39.35s/it]"
     ]
    },
    {
     "name": "stdout",
     "output_type": "stream",
     "text": [
      "267.9296875 NQM\n",
      "ρ NQM\n",
      "295.0 NQM\n",
      "267.5 ρ\n",
      "281.25 NQM\n",
      "274.375 NQM\n",
      "270.9375 NQM\n",
      "269.21875 NQM\n",
      "268.359375 NQM\n"
     ]
    },
    {
     "name": "stderr",
     "output_type": "stream",
     "text": [
      " 52%|█████▏    | 13/25 [08:28<07:57, 39.79s/it]"
     ]
    },
    {
     "name": "stdout",
     "output_type": "stream",
     "text": [
      "267.9296875 ρ\n",
      "ρ NQM\n",
      "295.0 NQM\n",
      "267.5 ρ\n",
      "281.25 NQM\n",
      "274.375 NQM\n",
      "270.9375 NQM\n",
      "269.21875 NQM\n",
      "268.359375 ρ\n"
     ]
    },
    {
     "name": "stderr",
     "output_type": "stream",
     "text": [
      " 56%|█████▌    | 14/25 [09:08<07:18, 39.85s/it]"
     ]
    },
    {
     "name": "stdout",
     "output_type": "stream",
     "text": [
      "268.7890625 NQM\n",
      "ρ NQM\n",
      "295.0 NQM\n",
      "267.5 ρ\n",
      "281.25 NQM\n",
      "274.375 NQM\n",
      "270.9375 NQM\n",
      "269.21875 NQM\n",
      "268.359375 ρ\n"
     ]
    },
    {
     "name": "stderr",
     "output_type": "stream",
     "text": [
      " 60%|██████    | 15/25 [09:49<06:40, 40.07s/it]"
     ]
    },
    {
     "name": "stdout",
     "output_type": "stream",
     "text": [
      "268.7890625 NQM\n",
      "ρ NQM\n",
      "295.0 NQM\n",
      "267.5 ρ\n",
      "281.25 NQM\n",
      "274.375 NQM\n",
      "270.9375 NQM\n",
      "269.21875 NQM\n",
      "268.359375 ρ\n"
     ]
    },
    {
     "name": "stderr",
     "output_type": "stream",
     "text": [
      " 64%|██████▍   | 16/25 [10:28<05:58, 39.86s/it]"
     ]
    },
    {
     "name": "stdout",
     "output_type": "stream",
     "text": [
      "268.7890625 NQM\n",
      "ρ NQM\n",
      "295.0 NQM\n",
      "267.5 ρ\n",
      "281.25 NQM\n",
      "274.375 NQM\n",
      "270.9375 NQM\n",
      "269.21875 NQM\n",
      "268.359375 ρ\n"
     ]
    },
    {
     "name": "stderr",
     "output_type": "stream",
     "text": [
      " 68%|██████▊   | 17/25 [11:09<05:21, 40.18s/it]"
     ]
    },
    {
     "name": "stdout",
     "output_type": "stream",
     "text": [
      "268.7890625 NQM\n",
      "ρ NQM\n",
      "295.0 NQM\n",
      "267.5 ρ\n",
      "281.25 NQM\n",
      "274.375 NQM\n",
      "270.9375 NQM\n",
      "269.21875 NQM\n",
      "268.359375 ρ\n"
     ]
    },
    {
     "name": "stderr",
     "output_type": "stream",
     "text": [
      " 72%|███████▏  | 18/25 [11:50<04:42, 40.35s/it]"
     ]
    },
    {
     "name": "stdout",
     "output_type": "stream",
     "text": [
      "268.7890625 NQM\n",
      "ρ NQM\n",
      "295.0 NQM\n",
      "267.5 ρ\n",
      "281.25 NQM\n",
      "274.375 NQM\n",
      "270.9375 NQM\n",
      "269.21875 NQM\n",
      "268.359375 ρ\n"
     ]
    },
    {
     "name": "stderr",
     "output_type": "stream",
     "text": [
      " 76%|███████▌  | 19/25 [12:32<04:05, 40.92s/it]"
     ]
    },
    {
     "name": "stdout",
     "output_type": "stream",
     "text": [
      "268.7890625 NQM\n",
      "ρ NQM\n",
      "295.0 NQM\n",
      "267.5 ρ\n",
      "281.25 NQM\n",
      "274.375 NQM\n",
      "270.9375 NQM\n",
      "269.21875 NQM\n",
      "268.359375 NQM\n"
     ]
    },
    {
     "name": "stderr",
     "output_type": "stream",
     "text": [
      " 80%|████████  | 20/25 [13:16<03:28, 41.71s/it]"
     ]
    },
    {
     "name": "stdout",
     "output_type": "stream",
     "text": [
      "267.9296875 ρ\n",
      "ρ NQM\n",
      "295.0 NQM\n",
      "267.5 ρ\n"
     ]
    },
    {
     "name": "stderr",
     "output_type": "stream",
     "text": [
      "C:\\Users\\mathi\\AppData\\Local\\Temp\\ipykernel_9048\\432776185.py:64: IntegrationWarning: The occurrence of roundoff error is detected, which prevents \n",
      "  the requested tolerance from being achieved.  The error may be \n",
      "  underestimated.\n",
      "  integral_bar_m, err_bar_m = integrate.quad(integrand_bar_m, 0, Λ_cutoff)\n"
     ]
    },
    {
     "name": "stdout",
     "output_type": "stream",
     "text": [
      "281.25 NQM\n",
      "274.375 NQM\n",
      "270.9375 NQM\n",
      "269.21875 NQM\n",
      "268.359375 NQM\n"
     ]
    },
    {
     "name": "stderr",
     "output_type": "stream",
     "text": [
      " 84%|████████▍ | 21/25 [13:56<02:45, 41.37s/it]"
     ]
    },
    {
     "name": "stdout",
     "output_type": "stream",
     "text": [
      "267.9296875 ρ\n",
      "ρ NQM\n",
      "295.0 NQM\n",
      "267.5 ρ\n",
      "281.25 NQM\n",
      "274.375 NQM\n",
      "270.9375 NQM\n",
      "269.21875 NQM\n",
      "268.359375 NQM\n"
     ]
    },
    {
     "name": "stderr",
     "output_type": "stream",
     "text": [
      " 88%|████████▊ | 22/25 [14:38<02:04, 41.46s/it]"
     ]
    },
    {
     "name": "stdout",
     "output_type": "stream",
     "text": [
      "267.9296875 NQM\n",
      "ρ NQM\n",
      "295.0 NQM\n",
      "267.5 ρ\n",
      "281.25 NQM\n",
      "274.375 NQM\n",
      "270.9375 NQM\n",
      "269.21875 NQM\n",
      "268.359375 NQM\n"
     ]
    },
    {
     "name": "stderr",
     "output_type": "stream",
     "text": [
      " 92%|█████████▏| 23/25 [15:17<01:21, 40.86s/it]"
     ]
    },
    {
     "name": "stdout",
     "output_type": "stream",
     "text": [
      "267.9296875 NQM\n",
      "ρ NQM\n",
      "295.0 NQM\n",
      "267.5 NQM\n",
      "253.75 ρ\n",
      "260.625 ρ\n",
      "264.0625 ρ\n",
      "265.78125 ρ\n",
      "266.640625 ρ\n"
     ]
    },
    {
     "name": "stderr",
     "output_type": "stream",
     "text": [
      " 96%|█████████▌| 24/25 [15:52<00:38, 38.89s/it]"
     ]
    },
    {
     "name": "stdout",
     "output_type": "stream",
     "text": [
      "267.0703125 ρ\n",
      "ρ NQM\n",
      "295.0 NQM\n",
      "267.5 NQM\n",
      "253.75 ρ\n",
      "260.625 ρ\n",
      "264.0625 ρ\n",
      "265.78125 ρ\n",
      "266.640625 ρ\n"
     ]
    },
    {
     "name": "stderr",
     "output_type": "stream",
     "text": [
      "100%|██████████| 25/25 [16:25<00:00, 39.42s/it]\n"
     ]
    },
    {
     "name": "stdout",
     "output_type": "stream",
     "text": [
      "267.0703125 NQM\n"
     ]
    },
    {
     "name": "stderr",
     "output_type": "stream",
     "text": [
      "  0%|          | 0/25 [00:00<?, ?it/s]"
     ]
    },
    {
     "name": "stdout",
     "output_type": "stream",
     "text": [
      "Vacuum ρ\n",
      "ρ 175.0\n",
      "Vacuum 137.5\n",
      "ρ 156.25\n",
      "ρ 146.875\n",
      "ρ 142.1875\n",
      "Vacuum 139.84375\n",
      "ρ 141.015625\n",
      "ρ 140.4296875\n"
     ]
    },
    {
     "name": "stderr",
     "output_type": "stream",
     "text": [
      "  4%|▍         | 1/25 [00:19<07:40, 19.17s/it]"
     ]
    },
    {
     "name": "stdout",
     "output_type": "stream",
     "text": [
      "ρ 140.13671875\n",
      "Vacuum ρ\n",
      "ρ 175.0\n",
      "Vacuum 137.5\n",
      "ρ 156.25\n",
      "ρ 146.875\n",
      "ρ 142.1875\n",
      "Vacuum 139.84375\n",
      "ρ 141.015625\n",
      "ρ 140.4296875\n"
     ]
    },
    {
     "name": "stderr",
     "output_type": "stream",
     "text": [
      "  8%|▊         | 2/25 [00:38<07:17, 19.03s/it]"
     ]
    },
    {
     "name": "stdout",
     "output_type": "stream",
     "text": [
      "ρ 140.13671875\n",
      "Vacuum ρ\n",
      "ρ 175.0\n",
      "Vacuum 137.5\n",
      "ρ 156.25\n",
      "ρ 146.875\n",
      "ρ 142.1875\n",
      "Vacuum 139.84375\n",
      "ρ 141.015625\n",
      "ρ 140.4296875\n"
     ]
    },
    {
     "name": "stderr",
     "output_type": "stream",
     "text": [
      " 12%|█▏        | 3/25 [00:56<06:57, 18.97s/it]"
     ]
    },
    {
     "name": "stdout",
     "output_type": "stream",
     "text": [
      "ρ 140.13671875\n",
      "Vacuum ρ\n",
      "ρ 175.0\n",
      "Vacuum 137.5\n",
      "ρ 156.25\n",
      "ρ 146.875\n",
      "ρ 142.1875\n",
      "Vacuum 139.84375\n",
      "ρ 141.015625\n",
      "ρ 140.4296875\n"
     ]
    },
    {
     "name": "stderr",
     "output_type": "stream",
     "text": [
      " 16%|█▌        | 4/25 [01:15<06:37, 18.91s/it]"
     ]
    },
    {
     "name": "stdout",
     "output_type": "stream",
     "text": [
      "ρ 140.13671875\n",
      "Vacuum ρ\n",
      "ρ 175.0\n",
      "Vacuum 137.5\n",
      "ρ 156.25\n",
      "ρ 146.875\n",
      "ρ 142.1875\n",
      "Vacuum 139.84375\n",
      "ρ 141.015625\n",
      "ρ 140.4296875\n"
     ]
    },
    {
     "name": "stderr",
     "output_type": "stream",
     "text": [
      " 20%|██        | 5/25 [01:34<06:15, 18.76s/it]"
     ]
    },
    {
     "name": "stdout",
     "output_type": "stream",
     "text": [
      "ρ 140.13671875\n",
      "Vacuum ρ\n",
      "ρ 175.0\n",
      "Vacuum 137.5\n",
      "ρ 156.25\n",
      "ρ 146.875\n",
      "ρ 142.1875\n",
      "Vacuum 139.84375\n",
      "ρ 141.015625\n",
      "ρ 140.4296875\n"
     ]
    },
    {
     "name": "stderr",
     "output_type": "stream",
     "text": [
      " 24%|██▍       | 6/25 [01:52<05:54, 18.67s/it]"
     ]
    },
    {
     "name": "stdout",
     "output_type": "stream",
     "text": [
      "ρ 140.13671875\n",
      "Vacuum ρ\n",
      "ρ 175.0\n",
      "Vacuum 137.5\n",
      "ρ 156.25\n",
      "ρ 146.875\n",
      "ρ 142.1875\n",
      "Vacuum 139.84375\n",
      "ρ 141.015625\n",
      "ρ 140.4296875\n"
     ]
    },
    {
     "name": "stderr",
     "output_type": "stream",
     "text": [
      " 28%|██▊       | 7/25 [02:11<05:38, 18.80s/it]"
     ]
    },
    {
     "name": "stdout",
     "output_type": "stream",
     "text": [
      "ρ 140.13671875\n",
      "Vacuum ρ\n",
      "ρ 175.0\n",
      "Vacuum 137.5\n",
      "ρ 156.25\n",
      "ρ 146.875\n",
      "ρ 142.1875\n",
      "Vacuum 139.84375\n",
      "ρ 141.015625\n",
      "ρ 140.4296875\n"
     ]
    },
    {
     "name": "stderr",
     "output_type": "stream",
     "text": [
      " 32%|███▏      | 8/25 [02:31<05:22, 18.99s/it]"
     ]
    },
    {
     "name": "stdout",
     "output_type": "stream",
     "text": [
      "ρ 140.13671875\n",
      "Vacuum ρ\n",
      "ρ 175.0\n",
      "Vacuum 137.5\n",
      "ρ 156.25\n",
      "ρ 146.875\n",
      "ρ 142.1875\n",
      "Vacuum 139.84375\n",
      "ρ 141.015625\n",
      "ρ 140.4296875\n"
     ]
    },
    {
     "name": "stderr",
     "output_type": "stream",
     "text": [
      " 36%|███▌      | 9/25 [02:50<05:07, 19.20s/it]"
     ]
    },
    {
     "name": "stdout",
     "output_type": "stream",
     "text": [
      "ρ 140.13671875\n",
      "Vacuum ρ\n",
      "ρ 175.0\n",
      "Vacuum 137.5\n",
      "ρ 156.25\n",
      "ρ 146.875\n",
      "ρ 142.1875\n",
      "Vacuum 139.84375\n",
      "ρ 141.015625\n",
      "ρ 140.4296875\n"
     ]
    },
    {
     "name": "stderr",
     "output_type": "stream",
     "text": [
      " 40%|████      | 10/25 [03:09<04:47, 19.15s/it]"
     ]
    },
    {
     "name": "stdout",
     "output_type": "stream",
     "text": [
      "ρ 140.13671875\n",
      "Vacuum ρ\n",
      "ρ 175.0\n",
      "Vacuum 137.5\n",
      "ρ 156.25\n",
      "ρ 146.875\n",
      "ρ 142.1875\n",
      "Vacuum 139.84375\n",
      "ρ 141.015625\n",
      "ρ 140.4296875\n"
     ]
    },
    {
     "name": "stderr",
     "output_type": "stream",
     "text": [
      " 44%|████▍     | 11/25 [03:29<04:28, 19.16s/it]"
     ]
    },
    {
     "name": "stdout",
     "output_type": "stream",
     "text": [
      "ρ 140.13671875\n",
      "Vacuum ρ\n",
      "ρ 175.0\n",
      "Vacuum 137.5\n",
      "ρ 156.25\n",
      "ρ 146.875\n",
      "ρ 142.1875\n",
      "Vacuum 139.84375\n",
      "ρ 141.015625\n",
      "ρ 140.4296875\n"
     ]
    },
    {
     "name": "stderr",
     "output_type": "stream",
     "text": [
      " 48%|████▊     | 12/25 [03:48<04:11, 19.37s/it]"
     ]
    },
    {
     "name": "stdout",
     "output_type": "stream",
     "text": [
      "ρ 140.13671875\n",
      "Vacuum ρ\n",
      "ρ 175.0\n",
      "Vacuum 137.5\n",
      "ρ 156.25\n",
      "ρ 146.875\n",
      "ρ 142.1875\n",
      "Vacuum 139.84375\n",
      "ρ 141.015625\n",
      "ρ 140.4296875\n"
     ]
    },
    {
     "name": "stderr",
     "output_type": "stream",
     "text": [
      " 52%|█████▏    | 13/25 [04:08<03:53, 19.42s/it]"
     ]
    },
    {
     "name": "stdout",
     "output_type": "stream",
     "text": [
      "ρ 140.13671875\n",
      "Vacuum ρ\n",
      "ρ 175.0\n",
      "Vacuum 137.5\n",
      "ρ 156.25\n",
      "ρ 146.875\n",
      "ρ 142.1875\n",
      "Vacuum 139.84375\n",
      "ρ 141.015625\n",
      "ρ 140.4296875\n"
     ]
    },
    {
     "name": "stderr",
     "output_type": "stream",
     "text": [
      " 56%|█████▌    | 14/25 [04:27<03:33, 19.43s/it]"
     ]
    },
    {
     "name": "stdout",
     "output_type": "stream",
     "text": [
      "ρ 140.13671875\n",
      "Vacuum ρ\n",
      "ρ 175.0\n",
      "Vacuum 137.5\n",
      "ρ 156.25\n",
      "ρ 146.875\n",
      "ρ 142.1875\n",
      "Vacuum 139.84375\n",
      "ρ 141.015625\n",
      "ρ 140.4296875\n"
     ]
    },
    {
     "name": "stderr",
     "output_type": "stream",
     "text": [
      " 60%|██████    | 15/25 [04:48<03:16, 19.68s/it]"
     ]
    },
    {
     "name": "stdout",
     "output_type": "stream",
     "text": [
      "ρ 140.13671875\n",
      "Vacuum ρ\n",
      "ρ 175.0\n",
      "Vacuum 137.5\n",
      "ρ 156.25\n",
      "ρ 146.875\n",
      "ρ 142.1875\n",
      "Vacuum 139.84375\n",
      "ρ 141.015625\n",
      "ρ 140.4296875\n"
     ]
    },
    {
     "name": "stderr",
     "output_type": "stream",
     "text": [
      " 64%|██████▍   | 16/25 [05:10<03:04, 20.50s/it]"
     ]
    },
    {
     "name": "stdout",
     "output_type": "stream",
     "text": [
      "ρ 140.13671875\n",
      "Vacuum ρ\n",
      "ρ 175.0\n",
      "Vacuum 137.5\n",
      "ρ 156.25\n",
      "ρ 146.875\n",
      "ρ 142.1875\n",
      "Vacuum 139.84375\n",
      "ρ 141.015625\n",
      "ρ 140.4296875\n"
     ]
    },
    {
     "name": "stderr",
     "output_type": "stream",
     "text": [
      " 68%|██████▊   | 17/25 [05:32<02:48, 21.02s/it]"
     ]
    },
    {
     "name": "stdout",
     "output_type": "stream",
     "text": [
      "ρ 140.13671875\n",
      "Vacuum ρ\n",
      "ρ 175.0\n",
      "Vacuum 137.5\n",
      "ρ 156.25\n",
      "ρ 146.875\n",
      "ρ 142.1875\n",
      "Vacuum 139.84375\n",
      "ρ 141.015625\n",
      "ρ 140.4296875\n"
     ]
    },
    {
     "name": "stderr",
     "output_type": "stream",
     "text": [
      " 72%|███████▏  | 18/25 [05:55<02:29, 21.42s/it]"
     ]
    },
    {
     "name": "stdout",
     "output_type": "stream",
     "text": [
      "ρ 140.13671875\n",
      "Vacuum ρ\n",
      "ρ 175.0\n",
      "Vacuum 137.5\n",
      "ρ 156.25\n",
      "ρ 146.875\n",
      "ρ 142.1875\n",
      "Vacuum 139.84375\n",
      "ρ 141.015625\n",
      "ρ 140.4296875\n"
     ]
    },
    {
     "name": "stderr",
     "output_type": "stream",
     "text": [
      " 76%|███████▌  | 19/25 [06:18<02:11, 21.89s/it]"
     ]
    },
    {
     "name": "stdout",
     "output_type": "stream",
     "text": [
      "ρ 140.13671875\n",
      "Vacuum ρ\n",
      "ρ 175.0\n",
      "Vacuum 137.5\n",
      "ρ 156.25\n",
      "ρ 146.875\n",
      "ρ 142.1875\n",
      "Vacuum 139.84375\n",
      "ρ 141.015625\n",
      "ρ 140.4296875\n"
     ]
    },
    {
     "name": "stderr",
     "output_type": "stream",
     "text": [
      " 80%|████████  | 20/25 [06:42<01:52, 22.58s/it]"
     ]
    },
    {
     "name": "stdout",
     "output_type": "stream",
     "text": [
      "ρ 140.13671875\n",
      "Vacuum ρ\n",
      "ρ 175.0\n",
      "Vacuum 137.5\n",
      "ρ 156.25\n",
      "ρ 146.875\n",
      "ρ 142.1875\n",
      "Vacuum 139.84375\n",
      "ρ 141.015625\n",
      "ρ 140.4296875\n"
     ]
    },
    {
     "name": "stderr",
     "output_type": "stream",
     "text": [
      " 84%|████████▍ | 21/25 [07:09<01:36, 24.08s/it]"
     ]
    },
    {
     "name": "stdout",
     "output_type": "stream",
     "text": [
      "Vacuum 140.13671875\n",
      "Vacuum ρ\n",
      "ρ 175.0\n",
      "Vacuum 137.5\n",
      "ρ 156.25\n",
      "ρ 146.875\n",
      "ρ 142.1875\n",
      "Vacuum 139.84375\n",
      "Vacuum 141.015625\n",
      "ρ 141.6015625\n"
     ]
    },
    {
     "name": "stderr",
     "output_type": "stream",
     "text": [
      " 88%|████████▊ | 22/25 [07:38<01:16, 25.48s/it]"
     ]
    },
    {
     "name": "stdout",
     "output_type": "stream",
     "text": [
      "Vacuum 141.30859375\n",
      "Vacuum ρ\n",
      "ρ 175.0\n",
      "NQM 137.5\n",
      "ρ 156.25\n",
      "ρ 146.875\n",
      "NQM 142.1875\n",
      "ρ 144.53125\n",
      "ρ 143.359375\n",
      "NQM 142.7734375\n"
     ]
    },
    {
     "name": "stderr",
     "output_type": "stream",
     "text": [
      " 92%|█████████▏| 23/25 [08:09<00:54, 27.21s/it]"
     ]
    },
    {
     "name": "stdout",
     "output_type": "stream",
     "text": [
      "NQM 143.06640625\n",
      "Vacuum ρ\n",
      "ρ 175.0\n",
      "NQM 137.5\n",
      "ρ 156.25\n",
      "ρ 146.875\n",
      "NQM 142.1875\n",
      "NQM 144.53125\n",
      "ρ 145.703125\n",
      "NQM 145.1171875\n"
     ]
    },
    {
     "name": "stderr",
     "output_type": "stream",
     "text": [
      " 96%|█████████▌| 24/25 [08:46<00:29, 29.89s/it]"
     ]
    },
    {
     "name": "stdout",
     "output_type": "stream",
     "text": [
      "NQM 145.41015625\n",
      "Vacuum ρ\n",
      "ρ 175.0\n",
      "NQM 137.5\n",
      "ρ 156.25\n",
      "NQM 146.875\n",
      "ρ 151.5625\n",
      "NQM 149.21875\n",
      "ρ 150.390625\n",
      "ρ 149.8046875\n"
     ]
    },
    {
     "name": "stderr",
     "output_type": "stream",
     "text": [
      "100%|██████████| 25/25 [09:23<00:00, 22.54s/it]\n"
     ]
    },
    {
     "name": "stdout",
     "output_type": "stream",
     "text": [
      "ρ 149.51171875\n"
     ]
    },
    {
     "name": "stderr",
     "output_type": "stream",
     "text": [
      "  0%|          | 0/25 [00:00<?, ?it/s]"
     ]
    },
    {
     "name": "stdout",
     "output_type": "stream",
     "text": [
      "Vacuum Δ\n",
      "337.5 Δ\n",
      "281.25 Vacuum\n",
      "309.375 Δ\n",
      "295.3125 Vacuum\n",
      "302.34375 Vacuum\n",
      "305.859375 NQM\n",
      "307.6171875 NQM\n",
      "308.49609375 Δ\n"
     ]
    },
    {
     "name": "stderr",
     "output_type": "stream",
     "text": [
      "  4%|▍         | 1/25 [00:44<17:51, 44.65s/it]"
     ]
    },
    {
     "name": "stdout",
     "output_type": "stream",
     "text": [
      "308.056640625 Δ\n",
      "Vacuum Δ\n",
      "337.5 Δ\n",
      "281.25 Vacuum\n",
      "309.375 NQM\n",
      "323.4375 Δ\n",
      "316.40625 Δ\n",
      "312.890625 NQM\n",
      "314.6484375 Δ\n",
      "313.76953125 Δ\n"
     ]
    },
    {
     "name": "stderr",
     "output_type": "stream",
     "text": [
      "  8%|▊         | 2/25 [01:33<18:04, 47.17s/it]"
     ]
    },
    {
     "name": "stdout",
     "output_type": "stream",
     "text": [
      "313.330078125 NQM\n",
      "Vacuum Δ\n",
      "337.5 Δ\n",
      "281.25 Vacuum\n",
      "309.375 NQM\n",
      "323.4375 Δ\n",
      "316.40625 Δ\n",
      "312.890625 NQM\n",
      "314.6484375 NQM\n",
      "315.52734375 NQM\n"
     ]
    },
    {
     "name": "stderr",
     "output_type": "stream",
     "text": [
      " 12%|█▏        | 3/25 [02:20<17:17, 47.18s/it]"
     ]
    },
    {
     "name": "stdout",
     "output_type": "stream",
     "text": [
      "315.966796875 Δ\n",
      "Vacuum Δ\n",
      "337.5 Δ\n",
      "281.25 Vacuum\n",
      "309.375 NQM\n",
      "323.4375 Δ\n",
      "316.40625 Δ\n",
      "312.890625 NQM\n",
      "314.6484375 NQM\n",
      "315.52734375 NQM\n"
     ]
    },
    {
     "name": "stderr",
     "output_type": "stream",
     "text": [
      " 16%|█▌        | 4/25 [03:09<16:44, 47.84s/it]"
     ]
    },
    {
     "name": "stdout",
     "output_type": "stream",
     "text": [
      "315.966796875 Δ\n",
      "Vacuum Δ\n",
      "337.5 Δ\n",
      "281.25 Vacuum\n",
      "309.375 NQM\n",
      "323.4375 Δ\n",
      "316.40625 Δ\n",
      "312.890625 NQM\n",
      "314.6484375 NQM\n",
      "315.52734375 NQM\n"
     ]
    },
    {
     "name": "stderr",
     "output_type": "stream",
     "text": [
      " 20%|██        | 5/25 [04:01<16:23, 49.19s/it]"
     ]
    },
    {
     "name": "stdout",
     "output_type": "stream",
     "text": [
      "315.966796875 NQM\n",
      "Vacuum Δ\n",
      "337.5 Δ\n",
      "281.25 NQM\n",
      "309.375 NQM\n",
      "323.4375 Δ\n",
      "316.40625 NQM\n",
      "319.921875 Δ\n",
      "318.1640625 Δ\n",
      "317.28515625 Δ\n"
     ]
    },
    {
     "name": "stderr",
     "output_type": "stream",
     "text": [
      " 24%|██▍       | 6/25 [04:48<15:19, 48.39s/it]"
     ]
    },
    {
     "name": "stdout",
     "output_type": "stream",
     "text": [
      "316.845703125 Δ\n",
      "Vacuum Δ\n",
      "337.5 Δ\n",
      "281.25 NQM\n",
      "309.375 NQM\n",
      "323.4375 Δ\n",
      "316.40625 NQM\n",
      "319.921875 Δ\n",
      "318.1640625 Δ\n",
      "317.28515625 NQM\n"
     ]
    },
    {
     "name": "stderr",
     "output_type": "stream",
     "text": [
      " 28%|██▊       | 7/25 [05:35<14:26, 48.17s/it]"
     ]
    },
    {
     "name": "stdout",
     "output_type": "stream",
     "text": [
      "317.724609375 Δ\n",
      "Vacuum Δ\n",
      "337.5 Δ\n",
      "281.25 NQM\n",
      "309.375 NQM\n",
      "323.4375 Δ\n",
      "316.40625 NQM\n",
      "319.921875 Δ\n",
      "318.1640625 NQM\n",
      "319.04296875 NQM\n"
     ]
    },
    {
     "name": "stderr",
     "output_type": "stream",
     "text": [
      " 32%|███▏      | 8/25 [06:21<13:27, 47.50s/it]"
     ]
    },
    {
     "name": "stdout",
     "output_type": "stream",
     "text": [
      "319.482421875 Δ\n",
      "Vacuum Δ\n",
      "337.5 Δ\n",
      "281.25 NQM\n",
      "309.375 NQM\n",
      "323.4375 NQM\n",
      "330.46875 Δ\n",
      "326.953125 Δ\n",
      "325.1953125 Δ\n",
      "324.31640625 Δ\n"
     ]
    },
    {
     "name": "stderr",
     "output_type": "stream",
     "text": [
      " 36%|███▌      | 9/25 [07:05<12:20, 46.28s/it]"
     ]
    },
    {
     "name": "stdout",
     "output_type": "stream",
     "text": [
      "323.876953125 Δ\n",
      "Vacuum Δ\n",
      "337.5 Δ\n",
      "281.25 NQM\n",
      "309.375 NQM\n",
      "323.4375 NQM\n",
      "330.46875 NQM\n",
      "333.984375 Δ\n",
      "332.2265625 Δ\n",
      "331.34765625 NQM\n"
     ]
    },
    {
     "name": "stderr",
     "output_type": "stream",
     "text": [
      " 40%|████      | 10/25 [07:51<11:34, 46.29s/it]"
     ]
    },
    {
     "name": "stdout",
     "output_type": "stream",
     "text": [
      "331.787109375 NQM\n",
      "Vacuum Δ\n",
      "337.5 NQM\n",
      "393.75 Δ\n",
      "365.625 Δ\n",
      "351.5625 Δ\n",
      "344.53125 Δ\n",
      "341.015625 NQM\n",
      "342.7734375 Δ\n",
      "341.89453125 NQM\n"
     ]
    },
    {
     "name": "stderr",
     "output_type": "stream",
     "text": [
      " 44%|████▍     | 11/25 [08:27<10:04, 43.19s/it]"
     ]
    },
    {
     "name": "stdout",
     "output_type": "stream",
     "text": [
      "342.333984375 Δ\n",
      "Vacuum Δ\n",
      "337.5 NQM\n",
      "393.75 Δ\n",
      "365.625 Δ\n",
      "351.5625 NQM\n",
      "358.59375 Δ\n",
      "355.078125 Δ\n",
      "353.3203125 NQM\n",
      "354.19921875 Δ\n"
     ]
    },
    {
     "name": "stderr",
     "output_type": "stream",
     "text": [
      " 48%|████▊     | 12/25 [08:58<08:30, 39.25s/it]"
     ]
    },
    {
     "name": "stdout",
     "output_type": "stream",
     "text": [
      "353.759765625 Δ\n",
      "ρ Δ\n",
      "337.5 NQM\n",
      "393.75 Δ\n",
      "365.625 Δ\n",
      "351.5625 NQM\n",
      "358.59375 NQM\n",
      "362.109375 NQM\n",
      "363.8671875 NQM\n",
      "364.74609375 NQM\n"
     ]
    },
    {
     "name": "stderr",
     "output_type": "stream",
     "text": [
      " 52%|█████▏    | 13/25 [09:25<07:08, 35.72s/it]"
     ]
    },
    {
     "name": "stdout",
     "output_type": "stream",
     "text": [
      "365.185546875 NQM\n",
      "ρ Δ\n",
      "337.5 NQM\n",
      "393.75 Δ\n",
      "365.625 NQM\n",
      "379.6875 Δ\n",
      "372.65625 NQM\n",
      "376.171875 NQM\n",
      "377.9296875 Δ\n",
      "377.05078125 NQM\n"
     ]
    },
    {
     "name": "stderr",
     "output_type": "stream",
     "text": [
      " 56%|█████▌    | 14/25 [09:53<06:05, 33.22s/it]"
     ]
    },
    {
     "name": "stdout",
     "output_type": "stream",
     "text": [
      "377.490234375 NQM\n",
      "ρ Δ\n",
      "337.5 NQM\n",
      "393.75 Δ\n",
      "365.625 NQM\n",
      "379.6875 NQM\n",
      "386.71875 NQM\n",
      "390.234375 Δ\n",
      "388.4765625 NQM\n",
      "389.35546875 NQM\n"
     ]
    },
    {
     "name": "stderr",
     "output_type": "stream",
     "text": [
      " 60%|██████    | 15/25 [10:23<05:22, 32.29s/it]"
     ]
    },
    {
     "name": "stdout",
     "output_type": "stream",
     "text": [
      "389.794921875 NQM\n",
      "ρ Δ\n",
      "337.5 NQM\n",
      "393.75 NQM\n",
      "421.875 Δ\n",
      "407.8125 Δ\n",
      "400.78125 NQM\n",
      "404.296875 Δ\n",
      "402.5390625 NQM\n",
      "403.41796875 Δ\n"
     ]
    },
    {
     "name": "stderr",
     "output_type": "stream",
     "text": [
      " 64%|██████▍   | 16/25 [10:53<04:43, 31.53s/it]"
     ]
    },
    {
     "name": "stdout",
     "output_type": "stream",
     "text": [
      "402.978515625 NQM\n",
      "ρ Δ\n",
      "337.5 NQM\n",
      "393.75 NQM\n",
      "421.875 Δ\n",
      "407.8125 NQM\n",
      "414.84375 NQM\n",
      "418.359375 Δ\n",
      "416.6015625 NQM\n",
      "417.48046875 Δ\n"
     ]
    },
    {
     "name": "stderr",
     "output_type": "stream",
     "text": [
      " 68%|██████▊   | 17/25 [11:22<04:06, 30.76s/it]"
     ]
    },
    {
     "name": "stdout",
     "output_type": "stream",
     "text": [
      "417.041015625 Δ\n",
      "ρ Δ\n",
      "337.5 NQM\n",
      "393.75 NQM\n",
      "421.875 NQM\n",
      "435.9375 Δ\n",
      "428.90625 NQM\n",
      "432.421875 Δ\n",
      "430.6640625 NQM\n",
      "431.54296875 Δ\n"
     ]
    },
    {
     "name": "stderr",
     "output_type": "stream",
     "text": [
      " 72%|███████▏  | 18/25 [11:52<03:35, 30.81s/it]"
     ]
    },
    {
     "name": "stdout",
     "output_type": "stream",
     "text": [
      "431.103515625 Δ\n",
      "ρ Δ\n",
      "337.5 NQM\n",
      "393.75 NQM\n",
      "421.875 NQM\n",
      "435.9375 NQM\n",
      "442.96875 NQM\n",
      "446.484375 Δ\n",
      "444.7265625 NQM\n",
      "445.60546875 Δ\n"
     ]
    },
    {
     "name": "stderr",
     "output_type": "stream",
     "text": [
      " 76%|███████▌  | 19/25 [12:24<03:05, 30.88s/it]"
     ]
    },
    {
     "name": "stdout",
     "output_type": "stream",
     "text": [
      "445.166015625 NQM\n",
      "ρ NQM\n",
      "337.5 NQM\n",
      "393.75 NQM\n",
      "421.875 NQM\n",
      "435.9375 NQM\n",
      "442.96875 NQM\n",
      "446.484375 NQM\n",
      "448.2421875 NQM\n",
      "449.12109375 NQM\n"
     ]
    },
    {
     "name": "stderr",
     "output_type": "stream",
     "text": [
      " 80%|████████  | 20/25 [12:59<02:41, 32.22s/it]"
     ]
    },
    {
     "name": "stdout",
     "output_type": "stream",
     "text": [
      "449.560546875 NQM\n",
      "ρ NQM\n",
      "337.5 NQM\n",
      "393.75 NQM\n",
      "421.875 NQM\n",
      "435.9375 NQM\n",
      "442.96875 NQM\n",
      "446.484375 NQM\n",
      "448.2421875 NQM\n",
      "449.12109375 NQM\n"
     ]
    },
    {
     "name": "stderr",
     "output_type": "stream",
     "text": [
      " 84%|████████▍ | 21/25 [13:43<02:22, 35.69s/it]"
     ]
    },
    {
     "name": "stdout",
     "output_type": "stream",
     "text": [
      "449.560546875 NQM\n",
      "ρ NQM\n",
      "337.5 NQM\n",
      "393.75 NQM\n",
      "421.875 NQM\n",
      "435.9375 NQM\n",
      "442.96875 NQM\n",
      "446.484375 NQM\n",
      "448.2421875 NQM\n",
      "449.12109375 NQM\n"
     ]
    },
    {
     "name": "stderr",
     "output_type": "stream",
     "text": [
      " 88%|████████▊ | 22/25 [14:25<01:53, 37.72s/it]"
     ]
    },
    {
     "name": "stdout",
     "output_type": "stream",
     "text": [
      "449.560546875 NQM\n",
      "ρ NQM\n",
      "337.5 NQM\n",
      "393.75 NQM\n",
      "421.875 NQM\n",
      "435.9375 NQM\n",
      "442.96875 NQM\n",
      "446.484375 NQM\n",
      "448.2421875 NQM\n",
      "449.12109375 NQM\n"
     ]
    },
    {
     "name": "stderr",
     "output_type": "stream",
     "text": [
      " 92%|█████████▏| 23/25 [15:07<01:18, 39.12s/it]"
     ]
    },
    {
     "name": "stdout",
     "output_type": "stream",
     "text": [
      "449.560546875 NQM\n",
      "ρ NQM\n",
      "337.5 NQM\n",
      "393.75 NQM\n",
      "421.875 NQM\n",
      "435.9375 NQM\n",
      "442.96875 NQM\n",
      "446.484375 NQM\n",
      "448.2421875 NQM\n",
      "449.12109375 NQM\n"
     ]
    },
    {
     "name": "stderr",
     "output_type": "stream",
     "text": [
      " 96%|█████████▌| 24/25 [15:50<00:40, 40.06s/it]"
     ]
    },
    {
     "name": "stdout",
     "output_type": "stream",
     "text": [
      "449.560546875 NQM\n",
      "ρ NQM\n",
      "337.5 NQM\n",
      "393.75 NQM\n",
      "421.875 NQM\n",
      "435.9375 NQM\n",
      "442.96875 NQM\n",
      "446.484375 NQM\n",
      "448.2421875 NQM\n",
      "449.12109375 NQM\n"
     ]
    },
    {
     "name": "stderr",
     "output_type": "stream",
     "text": [
      "100%|██████████| 25/25 [16:31<00:00, 39.67s/it]\n"
     ]
    },
    {
     "name": "stdout",
     "output_type": "stream",
     "text": [
      "449.560546875 NQM\n"
     ]
    },
    {
     "name": "stderr",
     "output_type": "stream",
     "text": [
      "  0%|          | 0/25 [00:00<?, ?it/s]"
     ]
    },
    {
     "name": "stdout",
     "output_type": "stream",
     "text": [
      "Vacuum Δ\n",
      "245.0 Vacuum\n",
      "297.5 Vacuum\n",
      "323.75 Δ\n",
      "310.625 Δ\n",
      "304.0625 Vacuum\n",
      "307.34375 NQM\n",
      "305.703125 Vacuum\n",
      "306.5234375 NQM\n"
     ]
    },
    {
     "name": "stderr",
     "output_type": "stream",
     "text": [
      "  4%|▍         | 1/25 [00:48<19:35, 48.97s/it]"
     ]
    },
    {
     "name": "stdout",
     "output_type": "stream",
     "text": [
      "306.11328125 NQM\n",
      "Vacuum Δ\n",
      "245.0 Vacuum\n",
      "297.5 Vacuum\n",
      "323.75 Δ\n",
      "310.625 Δ\n",
      "304.0625 Vacuum\n",
      "307.34375 NQM\n",
      "305.703125 NQM\n",
      "304.8828125 Vacuum\n"
     ]
    },
    {
     "name": "stderr",
     "output_type": "stream",
     "text": [
      "  8%|▊         | 2/25 [01:36<18:27, 48.17s/it]"
     ]
    },
    {
     "name": "stdout",
     "output_type": "stream",
     "text": [
      "305.29296875 Vacuum\n",
      "Vacuum Δ\n",
      "245.0 Vacuum\n",
      "297.5 Vacuum\n",
      "323.75 Δ\n",
      "310.625 NQM\n",
      "304.0625 Vacuum\n",
      "307.34375 NQM\n",
      "305.703125 NQM\n",
      "304.8828125 NQM\n"
     ]
    },
    {
     "name": "stderr",
     "output_type": "stream",
     "text": [
      " 12%|█▏        | 3/25 [02:24<17:40, 48.21s/it]"
     ]
    },
    {
     "name": "stdout",
     "output_type": "stream",
     "text": [
      "304.47265625 Vacuum\n",
      "Vacuum Δ\n",
      "245.0 Vacuum\n",
      "297.5 Vacuum\n",
      "323.75 Δ\n",
      "310.625 NQM\n",
      "304.0625 NQM\n",
      "300.78125 Vacuum\n",
      "302.421875 NQM\n",
      "301.6015625 Vacuum\n"
     ]
    },
    {
     "name": "stderr",
     "output_type": "stream",
     "text": [
      " 16%|█▌        | 4/25 [03:11<16:40, 47.66s/it]"
     ]
    },
    {
     "name": "stdout",
     "output_type": "stream",
     "text": [
      "302.01171875 Vacuum\n",
      "Vacuum Δ\n",
      "245.0 Vacuum\n",
      "297.5 Vacuum\n",
      "323.75 Δ\n",
      "310.625 NQM\n",
      "304.0625 NQM\n",
      "300.78125 NQM\n",
      "299.140625 Vacuum\n",
      "299.9609375 NQM\n"
     ]
    },
    {
     "name": "stderr",
     "output_type": "stream",
     "text": [
      " 20%|██        | 5/25 [03:58<15:50, 47.54s/it]"
     ]
    },
    {
     "name": "stdout",
     "output_type": "stream",
     "text": [
      "299.55078125 Vacuum\n",
      "Vacuum Δ\n",
      "245.0 Vacuum\n",
      "297.5 NQM\n",
      "271.25 Vacuum\n",
      "284.375 Vacuum\n",
      "290.9375 Vacuum\n",
      "294.21875 Vacuum\n",
      "295.859375 Vacuum\n",
      "296.6796875 Vacuum\n"
     ]
    },
    {
     "name": "stderr",
     "output_type": "stream",
     "text": [
      " 24%|██▍       | 6/25 [04:40<14:25, 45.53s/it]"
     ]
    },
    {
     "name": "stdout",
     "output_type": "stream",
     "text": [
      "297.08984375 NQM\n",
      "Vacuum Δ\n",
      "245.0 Vacuum\n",
      "297.5 NQM\n",
      "271.25 Vacuum\n",
      "284.375 Vacuum\n",
      "290.9375 Vacuum\n",
      "294.21875 NQM\n",
      "292.578125 Vacuum\n",
      "293.3984375 Vacuum\n"
     ]
    },
    {
     "name": "stderr",
     "output_type": "stream",
     "text": [
      " 28%|██▊       | 7/25 [05:20<13:05, 43.64s/it]"
     ]
    },
    {
     "name": "stdout",
     "output_type": "stream",
     "text": [
      "293.80859375 Vacuum\n",
      "Vacuum Δ\n",
      "245.0 Vacuum\n",
      "297.5 NQM\n",
      "271.25 Vacuum\n",
      "284.375 Vacuum\n",
      "290.9375 Vacuum\n",
      "294.21875 NQM\n",
      "292.578125 NQM\n",
      "291.7578125 NQM\n"
     ]
    },
    {
     "name": "stderr",
     "output_type": "stream",
     "text": [
      " 32%|███▏      | 8/25 [05:58<11:54, 42.01s/it]"
     ]
    },
    {
     "name": "stdout",
     "output_type": "stream",
     "text": [
      "291.34765625 Vacuum\n",
      "Vacuum Δ\n",
      "245.0 Vacuum\n",
      "297.5 NQM\n",
      "271.25 Vacuum\n",
      "284.375 Vacuum\n",
      "290.9375 NQM\n",
      "287.65625 Vacuum\n",
      "289.296875 NQM\n",
      "288.4765625 Vacuum\n"
     ]
    },
    {
     "name": "stderr",
     "output_type": "stream",
     "text": [
      " 36%|███▌      | 9/25 [06:37<10:55, 40.99s/it]"
     ]
    },
    {
     "name": "stdout",
     "output_type": "stream",
     "text": [
      "288.88671875 NQM\n",
      "Vacuum Δ\n",
      "245.0 Vacuum\n",
      "297.5 NQM\n",
      "271.25 Vacuum\n",
      "284.375 Vacuum\n",
      "290.9375 NQM\n",
      "287.65625 NQM\n",
      "286.015625 Vacuum\n",
      "286.8359375 NQM\n"
     ]
    },
    {
     "name": "stderr",
     "output_type": "stream",
     "text": [
      " 40%|████      | 10/25 [07:16<10:03, 40.25s/it]"
     ]
    },
    {
     "name": "stdout",
     "output_type": "stream",
     "text": [
      "286.42578125 NQM\n",
      "Vacuum Δ\n",
      "245.0 Vacuum\n",
      "297.5 NQM\n",
      "271.25 Vacuum\n",
      "284.375 NQM\n",
      "277.8125 Vacuum\n",
      "281.09375 Vacuum\n",
      "282.734375 Vacuum\n",
      "283.5546875 NQM\n"
     ]
    },
    {
     "name": "stderr",
     "output_type": "stream",
     "text": [
      " 44%|████▍     | 11/25 [07:58<09:32, 40.93s/it]"
     ]
    },
    {
     "name": "stdout",
     "output_type": "stream",
     "text": [
      "283.14453125 Vacuum\n",
      "Vacuum Δ\n",
      "245.0 Vacuum\n",
      "297.5 NQM\n",
      "271.25 Vacuum\n",
      "284.375 NQM\n",
      "277.8125 Vacuum\n",
      "281.09375 NQM\n",
      "279.453125 Vacuum\n",
      "280.2734375 Vacuum\n"
     ]
    },
    {
     "name": "stderr",
     "output_type": "stream",
     "text": [
      " 48%|████▊     | 12/25 [08:37<08:44, 40.35s/it]"
     ]
    },
    {
     "name": "stdout",
     "output_type": "stream",
     "text": [
      "280.68359375 NQM\n",
      "Vacuum Δ\n",
      "245.0 Vacuum\n",
      "297.5 NQM\n",
      "271.25 Vacuum\n",
      "284.375 NQM\n",
      "277.8125 Vacuum\n",
      "281.09375 NQM\n",
      "279.453125 NQM\n",
      "278.6328125 NQM\n"
     ]
    },
    {
     "name": "stderr",
     "output_type": "stream",
     "text": [
      " 52%|█████▏    | 13/25 [09:16<07:58, 39.92s/it]"
     ]
    },
    {
     "name": "stdout",
     "output_type": "stream",
     "text": [
      "278.22265625 NQM\n",
      "Vacuum Δ\n",
      "245.0 Vacuum\n",
      "297.5 NQM\n",
      "271.25 Vacuum\n",
      "284.375 NQM\n",
      "277.8125 NQM\n",
      "274.53125 Vacuum\n",
      "276.171875 NQM\n",
      "275.3515625 NQM\n"
     ]
    },
    {
     "name": "stderr",
     "output_type": "stream",
     "text": [
      " 56%|█████▌    | 14/25 [09:56<07:19, 39.99s/it]"
     ]
    },
    {
     "name": "stdout",
     "output_type": "stream",
     "text": [
      "274.94140625 Vacuum\n",
      "Vacuum Δ\n",
      "245.0 Vacuum\n",
      "297.5 NQM\n",
      "271.25 Vacuum\n",
      "284.375 NQM\n",
      "277.8125 NQM\n",
      "274.53125 NQM\n",
      "272.890625 NQM\n",
      "272.0703125 Vacuum\n"
     ]
    },
    {
     "name": "stderr",
     "output_type": "stream",
     "text": [
      " 60%|██████    | 15/25 [10:34<06:34, 39.42s/it]"
     ]
    },
    {
     "name": "stdout",
     "output_type": "stream",
     "text": [
      "272.48046875 Vacuum\n",
      "Vacuum Δ\n",
      "245.0 Vacuum\n",
      "297.5 NQM\n",
      "271.25 NQM\n",
      "258.125 Vacuum\n",
      "264.6875 Vacuum\n",
      "267.96875 Vacuum\n",
      "269.609375 Vacuum\n",
      "270.4296875 NQM\n"
     ]
    },
    {
     "name": "stderr",
     "output_type": "stream",
     "text": [
      " 64%|██████▍   | 16/25 [11:13<05:53, 39.29s/it]"
     ]
    },
    {
     "name": "stdout",
     "output_type": "stream",
     "text": [
      "270.01953125 NQM\n",
      "Vacuum Δ\n",
      "245.0 Vacuum\n",
      "297.5 NQM\n",
      "271.25 NQM\n",
      "258.125 Vacuum\n",
      "264.6875 Vacuum\n",
      "267.96875 NQM\n",
      "266.328125 Vacuum\n",
      "267.1484375 NQM\n"
     ]
    },
    {
     "name": "stderr",
     "output_type": "stream",
     "text": [
      " 68%|██████▊   | 17/25 [11:53<05:14, 39.33s/it]"
     ]
    },
    {
     "name": "stdout",
     "output_type": "stream",
     "text": [
      "266.73828125 Vacuum\n",
      "Vacuum Δ\n",
      "245.0 Vacuum\n",
      "297.5 NQM\n",
      "271.25 NQM\n",
      "258.125 Vacuum\n",
      "264.6875 NQM\n",
      "261.40625 Vacuum\n",
      "263.046875 Vacuum\n",
      "263.8671875 Vacuum\n"
     ]
    },
    {
     "name": "stderr",
     "output_type": "stream",
     "text": [
      " 72%|███████▏  | 18/25 [12:33<04:36, 39.48s/it]"
     ]
    },
    {
     "name": "stdout",
     "output_type": "stream",
     "text": [
      "264.27734375 Vacuum\n",
      "Vacuum Δ\n",
      "245.0 Vacuum\n",
      "297.5 NQM\n",
      "271.25 NQM\n",
      "258.125 Vacuum\n",
      "264.6875 NQM\n",
      "261.40625 Vacuum\n",
      "263.046875 NQM\n",
      "262.2265625 NQM\n"
     ]
    },
    {
     "name": "stderr",
     "output_type": "stream",
     "text": [
      " 76%|███████▌  | 19/25 [13:12<03:56, 39.36s/it]"
     ]
    },
    {
     "name": "stdout",
     "output_type": "stream",
     "text": [
      "261.81640625 NQM\n",
      "Vacuum Δ\n",
      "245.0 Vacuum\n",
      "297.5 NQM\n",
      "271.25 NQM\n",
      "258.125 Vacuum\n",
      "264.6875 NQM\n",
      "261.40625 NQM\n",
      "259.765625 NQM\n",
      "258.9453125 Vacuum\n"
     ]
    },
    {
     "name": "stderr",
     "output_type": "stream",
     "text": [
      " 80%|████████  | 20/25 [13:52<03:17, 39.53s/it]"
     ]
    },
    {
     "name": "stdout",
     "output_type": "stream",
     "text": [
      "259.35546875 NQM\n",
      "Vacuum Δ\n",
      "245.0 Vacuum\n",
      "297.5 NQM\n",
      "271.25 NQM\n",
      "258.125 NQM\n",
      "251.5625 Vacuum\n",
      "254.84375 Vacuum\n",
      "256.484375 NQM\n",
      "255.6640625 Vacuum\n"
     ]
    },
    {
     "name": "stderr",
     "output_type": "stream",
     "text": [
      " 84%|████████▍ | 21/25 [14:30<02:36, 39.07s/it]"
     ]
    },
    {
     "name": "stdout",
     "output_type": "stream",
     "text": [
      "256.07421875 Vacuum\n",
      "Vacuum Δ\n",
      "245.0 Vacuum\n",
      "297.5 NQM\n",
      "271.25 NQM\n",
      "258.125 NQM\n",
      "251.5625 Vacuum\n",
      "254.84375 NQM\n",
      "253.203125 Vacuum\n",
      "254.0234375 NQM\n"
     ]
    },
    {
     "name": "stderr",
     "output_type": "stream",
     "text": [
      " 88%|████████▊ | 22/25 [15:07<01:56, 38.71s/it]"
     ]
    },
    {
     "name": "stdout",
     "output_type": "stream",
     "text": [
      "253.61328125 NQM\n",
      "Vacuum Δ\n",
      "245.0 Vacuum\n",
      "297.5 NQM\n",
      "271.25 NQM\n",
      "258.125 NQM\n",
      "251.5625 NQM\n",
      "248.28125 Vacuum\n",
      "249.921875 Vacuum\n",
      "250.7421875 Vacuum\n"
     ]
    },
    {
     "name": "stderr",
     "output_type": "stream",
     "text": [
      " 92%|█████████▏| 23/25 [15:44<01:16, 38.18s/it]"
     ]
    },
    {
     "name": "stdout",
     "output_type": "stream",
     "text": [
      "251.15234375 NQM\n",
      "Vacuum Δ\n",
      "245.0 Vacuum\n",
      "297.5 NQM\n",
      "271.25 NQM\n",
      "258.125 NQM\n",
      "251.5625 NQM\n",
      "248.28125 NQM\n",
      "246.640625 Vacuum\n",
      "247.4609375 Vacuum\n"
     ]
    },
    {
     "name": "stderr",
     "output_type": "stream",
     "text": [
      " 96%|█████████▌| 24/25 [16:25<00:38, 38.85s/it]"
     ]
    },
    {
     "name": "stdout",
     "output_type": "stream",
     "text": [
      "247.87109375 Vacuum\n",
      "Vacuum Δ\n",
      "245.0 Vacuum\n",
      "297.5 NQM\n",
      "271.25 NQM\n",
      "258.125 NQM\n",
      "251.5625 NQM\n",
      "248.28125 NQM\n",
      "246.640625 NQM\n",
      "245.8203125 NQM\n"
     ]
    },
    {
     "name": "stderr",
     "output_type": "stream",
     "text": [
      "100%|██████████| 25/25 [17:04<00:00, 40.98s/it]\n"
     ]
    },
    {
     "name": "stdout",
     "output_type": "stream",
     "text": [
      "245.41015625 NQM\n"
     ]
    },
    {
     "name": "stderr",
     "output_type": "stream",
     "text": [
      "  0%|          | 0/15 [00:00<?, ?it/s]"
     ]
    },
    {
     "name": "stdout",
     "output_type": "stream",
     "text": [
      "Vacuum ρ\n",
      "ρ 140.0\n",
      "Vacuum 135.0\n",
      "Vacuum 137.5\n",
      "Vacuum 138.75\n",
      "Vacuum 139.375\n"
     ]
    },
    {
     "name": "stderr",
     "output_type": "stream",
     "text": [
      "  7%|▋         | 1/15 [00:13<03:12, 13.78s/it]"
     ]
    },
    {
     "name": "stdout",
     "output_type": "stream",
     "text": [
      "Vacuum 139.6875\n",
      "Vacuum ρ\n",
      "ρ 140.0\n",
      "Vacuum 135.0\n",
      "Vacuum 137.5\n",
      "Vacuum 138.75\n",
      "Vacuum 139.375\n"
     ]
    },
    {
     "name": "stderr",
     "output_type": "stream",
     "text": [
      " 13%|█▎        | 2/15 [00:27<03:00, 13.88s/it]"
     ]
    },
    {
     "name": "stdout",
     "output_type": "stream",
     "text": [
      "Vacuum 139.6875\n",
      "Vacuum ρ\n",
      "ρ 140.0\n",
      "Vacuum 135.0\n",
      "Vacuum 137.5\n",
      "Vacuum 138.75\n",
      "Vacuum 139.375\n"
     ]
    },
    {
     "name": "stderr",
     "output_type": "stream",
     "text": [
      " 20%|██        | 3/15 [00:41<02:44, 13.69s/it]"
     ]
    },
    {
     "name": "stdout",
     "output_type": "stream",
     "text": [
      "Vacuum 139.6875\n",
      "Vacuum ρ\n",
      "ρ 140.0\n",
      "Vacuum 135.0\n",
      "Vacuum 137.5\n",
      "Vacuum 138.75\n",
      "Vacuum 139.375\n"
     ]
    },
    {
     "name": "stderr",
     "output_type": "stream",
     "text": [
      " 27%|██▋       | 4/15 [00:54<02:30, 13.64s/it]"
     ]
    },
    {
     "name": "stdout",
     "output_type": "stream",
     "text": [
      "Vacuum 139.6875\n",
      "Vacuum ρ\n",
      "ρ 140.0\n",
      "Vacuum 135.0\n",
      "Vacuum 137.5\n",
      "Vacuum 138.75\n",
      "Vacuum 139.375\n"
     ]
    },
    {
     "name": "stderr",
     "output_type": "stream",
     "text": [
      " 33%|███▎      | 5/15 [01:08<02:16, 13.61s/it]"
     ]
    },
    {
     "name": "stdout",
     "output_type": "stream",
     "text": [
      "Vacuum 139.6875\n",
      "Vacuum ρ\n",
      "ρ 140.0\n",
      "Vacuum 135.0\n",
      "Vacuum 137.5\n",
      "Vacuum 138.75\n",
      "Vacuum 139.375\n"
     ]
    },
    {
     "name": "stderr",
     "output_type": "stream",
     "text": [
      " 40%|████      | 6/15 [01:22<02:03, 13.68s/it]"
     ]
    },
    {
     "name": "stdout",
     "output_type": "stream",
     "text": [
      "Vacuum 139.6875\n",
      "Vacuum ρ\n",
      "ρ 140.0\n",
      "Vacuum 135.0\n",
      "Vacuum 137.5\n",
      "Vacuum 138.75\n",
      "Vacuum 139.375\n"
     ]
    },
    {
     "name": "stderr",
     "output_type": "stream",
     "text": [
      " 47%|████▋     | 7/15 [01:35<01:48, 13.54s/it]"
     ]
    },
    {
     "name": "stdout",
     "output_type": "stream",
     "text": [
      "Vacuum 139.6875\n",
      "Vacuum ρ\n",
      "ρ 140.0\n",
      "Vacuum 135.0\n",
      "Vacuum 137.5\n",
      "Vacuum 138.75\n",
      "Vacuum 139.375\n"
     ]
    },
    {
     "name": "stderr",
     "output_type": "stream",
     "text": [
      " 53%|█████▎    | 8/15 [01:49<01:36, 13.73s/it]"
     ]
    },
    {
     "name": "stdout",
     "output_type": "stream",
     "text": [
      "Vacuum 139.6875\n",
      "Vacuum ρ\n",
      "ρ 140.0\n",
      "Vacuum 135.0\n",
      "Vacuum 137.5\n",
      "Vacuum 138.75\n",
      "Vacuum 139.375\n"
     ]
    },
    {
     "name": "stderr",
     "output_type": "stream",
     "text": [
      " 60%|██████    | 9/15 [02:03<01:22, 13.67s/it]"
     ]
    },
    {
     "name": "stdout",
     "output_type": "stream",
     "text": [
      "Vacuum 139.6875\n",
      "Vacuum ρ\n",
      "ρ 140.0\n",
      "Vacuum 135.0\n",
      "Vacuum 137.5\n",
      "Vacuum 138.75\n",
      "Vacuum 139.375\n"
     ]
    },
    {
     "name": "stderr",
     "output_type": "stream",
     "text": [
      " 67%|██████▋   | 10/15 [02:16<01:08, 13.66s/it]"
     ]
    },
    {
     "name": "stdout",
     "output_type": "stream",
     "text": [
      "Vacuum 139.6875\n",
      "Vacuum ρ\n",
      "ρ 140.0\n",
      "Vacuum 135.0\n",
      "Vacuum 137.5\n",
      "Vacuum 138.75\n",
      "Vacuum 139.375\n"
     ]
    },
    {
     "name": "stderr",
     "output_type": "stream",
     "text": [
      " 73%|███████▎  | 11/15 [02:31<00:56, 14.14s/it]"
     ]
    },
    {
     "name": "stdout",
     "output_type": "stream",
     "text": [
      "Vacuum 139.6875\n",
      "Vacuum ρ\n",
      "ρ 140.0\n",
      "Vacuum 135.0\n",
      "Vacuum 137.5\n",
      "Vacuum 138.75\n",
      "Vacuum 139.375\n"
     ]
    },
    {
     "name": "stderr",
     "output_type": "stream",
     "text": [
      " 80%|████████  | 12/15 [02:47<00:43, 14.53s/it]"
     ]
    },
    {
     "name": "stdout",
     "output_type": "stream",
     "text": [
      "Vacuum 139.6875\n",
      "Vacuum ρ\n",
      "ρ 140.0\n",
      "Vacuum 135.0\n",
      "Vacuum 137.5\n",
      "Vacuum 138.75\n",
      "Vacuum 139.375\n"
     ]
    },
    {
     "name": "stderr",
     "output_type": "stream",
     "text": [
      " 87%|████████▋ | 13/15 [03:02<00:29, 14.83s/it]"
     ]
    },
    {
     "name": "stdout",
     "output_type": "stream",
     "text": [
      "Vacuum 139.6875\n",
      "Vacuum ρ\n",
      "Vacuum 140.0\n",
      "ρ 145.0\n",
      "ρ 142.5\n",
      "ρ 141.25\n",
      "ρ 140.625\n"
     ]
    },
    {
     "name": "stderr",
     "output_type": "stream",
     "text": [
      " 93%|█████████▎| 14/15 [03:22<00:16, 16.15s/it]"
     ]
    },
    {
     "name": "stdout",
     "output_type": "stream",
     "text": [
      "Vacuum 140.3125\n",
      "Vacuum ρ\n",
      "Vacuum 140.0\n",
      "ρ 145.0\n",
      "ρ 142.5\n",
      "NQM 141.25\n",
      "Vacuum 140.625\n"
     ]
    },
    {
     "name": "stderr",
     "output_type": "stream",
     "text": [
      "100%|██████████| 15/15 [03:43<00:00, 14.90s/it]"
     ]
    },
    {
     "name": "stdout",
     "output_type": "stream",
     "text": [
      "NQM 140.9375\n"
     ]
    },
    {
     "name": "stderr",
     "output_type": "stream",
     "text": [
      "\n"
     ]
    }
   ],
   "source": [
    "min_list_1ρ = vertical_transition_ρ([240, 350],[150, 300]) # The range for μI must be large and the range for μ should be close to and cover the transition\n",
    "min_list_2ρ = horizontal_transition_ρ([150, 250],[100, 250]) # The range for μ should be large and the range for μI should be close and cover the transition\n",
    "min_list_1Δ = vertical_transition_Δ([225, 450],[0, 300]) # The range for μI must be large and the range for μ should be close to and cover the transition\n",
    "min_list_1ϕ = vertical_transition_ϕ([140, 350],[0, 130]) # The range for μI must be large and the range for μ should be close to and cover the transition\n",
    "min_list_2ϕ = horizontal_transition_ϕ([150, 240],[130, 150]) # The range for μI must be large and the range for μ should be close to and cover the transition"
   ]
  },
  {
   "cell_type": "code",
   "execution_count": 13,
   "id": "e4479d45-be05-4665-b649-36f8903522be",
   "metadata": {},
   "outputs": [],
   "source": [
    "μ_min_list_1ρ = [i[0] for i in min_list_1ρ]\n",
    "μI_min_list_1ρ = [i[1] for i in min_list_1ρ]\n",
    "μ_min_list_2ρ = [i[0] for i in min_list_2ρ]\n",
    "μI_min_list_2ρ = [i[1] for i in min_list_2ρ]\n",
    "\n",
    "μ_min_list_ρ = μ_min_list_2ρ + μ_min_list_1ρ\n",
    "μI_min_list_ρ = μI_min_list_2ρ + μI_min_list_1ρ "
   ]
  },
  {
   "cell_type": "code",
   "execution_count": 14,
   "id": "345aa9c1-9005-4289-994e-f7420eb503de",
   "metadata": {},
   "outputs": [],
   "source": [
    "μ_min_list_Δ = [i[0] for i in min_list_1Δ]\n",
    "μI_min_list_Δ = [i[1] for i in min_list_1Δ]"
   ]
  },
  {
   "cell_type": "code",
   "execution_count": 15,
   "id": "d4260437-16b7-43d2-a2f2-98b847035bab",
   "metadata": {},
   "outputs": [],
   "source": [
    "μ_min_list_ϕ1 = [i[0] for i in min_list_1ϕ]\n",
    "μI_min_list_ϕ1 = [i[1] for i in min_list_1ϕ]\n",
    "μ_min_list_ϕ2 = [i[0] for i in min_list_2ϕ]\n",
    "μI_min_list_ϕ2 = [i[1] for i in min_list_2ϕ]\n",
    "\n",
    "μ_min_list_ϕ2.reverse()\n",
    "μI_min_list_ϕ2.reverse()\n",
    "\n",
    "μ_min_list_ϕ = μ_min_list_ϕ1 + μ_min_list_ϕ2\n",
    "μI_min_list_ϕ = μI_min_list_ϕ1 + μI_min_list_ϕ2"
   ]
  },
  {
   "cell_type": "code",
   "execution_count": 16,
   "id": "6f21ec4e-062d-45e4-bd74-1587bbdae54d",
   "metadata": {},
   "outputs": [
    {
     "data": {
      "image/png": "[encoded data removed]",
      "text/plain": [
       "<Figure size 1200x800 with 1 Axes>"
      ]
     },
     "metadata": {},
     "output_type": "display_data"
    }
   ],
   "source": [
    "fig = plt.figure(figsize=(12,8))\n",
    "\n",
    "plt.plot(μ_min_list_Δ, μI_min_list_Δ, c= \"green\")\n",
    "plt.plot(μ_min_list_ϕ, μI_min_list_ϕ, c= \"blue\")\n",
    "plt.plot(μ_min_list_ρ, μI_min_list_ρ, c= \"red\")\n",
    "#plt.scatter(μ_min_list_ρ, μI_min_list_ρ, c= \"red\", s = 5)\n",
    "#plt.scatter(μ_min_list_Δ, μI_min_list_Δ, c= \"green\", s = 5)\n",
    "#plt.scatter(μ_min_list_ϕ, μI_min_list_ϕ, c= \"blue\", s = 5)\n",
    "\n",
    "plt.xlabel(r'$\\mu$' + \" (MeV)\", fontsize=16)\n",
    "plt.ylabel(r'$\\mu_I$' + \" (MeV)\", fontsize=16)\n",
    "plt.xlim(140, 420)\n",
    "plt.ylim(0, 190)\n",
    "plt.text(220, 60, 'Vacuum', fontsize = 16)\n",
    "plt.text(210, 160, 'BEC/BCS', fontsize = 16)\n",
    "plt.text(390, 80, '2SC', fontsize = 16)\n",
    "plt.text(300, 130, 'NQM', fontsize = 16)\n",
    "plt.savefig(\"mu_muI_phase_diagram_set2.pdf\")\n",
    "plt.show()"
   ]
  },
  {
   "cell_type": "code",
   "execution_count": null,
   "id": "ebfec41d-b4ce-4af8-8f5f-1f99912f9d5b",
   "metadata": {},
   "outputs": [],
   "source": []
  }
 ],
 "metadata": {
  "kernelspec": {
   "display_name": "Python 3 (ipykernel)",
   "language": "python",
   "name": "python3"
  },
  "language_info": {
   "codemirror_mode": {
    "name": "ipython",
    "version": 3
   },
   "file_extension": ".py",
   "mimetype": "text/x-python",
   "name": "python",
   "nbconvert_exporter": "python",
   "pygments_lexer": "ipython3",
   "version": "3.12.7"
  }
 },
 "nbformat": 4,
 "nbformat_minor": 5
}
